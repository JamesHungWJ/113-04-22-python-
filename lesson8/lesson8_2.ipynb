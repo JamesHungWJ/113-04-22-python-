{
 "cells": [
  {
   "cell_type": "markdown",
   "metadata": {},
   "source": [
    "## 如何自訂function\n",
    "- funtion代表一個功能\n",
    "- 可以讓邏輯思考變簡單\n",
    "## 可以使用def"
   ]
  },
  {
   "cell_type": "code",
   "execution_count": 2,
   "metadata": {},
   "outputs": [
    {
     "name": "stdout",
     "output_type": "stream",
     "text": [
      "15\n",
      "1000\n"
     ]
    }
   ],
   "source": [
    "def add(a,b):\n",
    "    return a+b\n",
    "def multiply(a,b):\n",
    "    return a * b\n",
    "\n",
    "print(add(10,5))\n",
    "print(multiply(20,50))"
   ]
  },
  {
   "cell_type": "markdown",
   "metadata": {},
   "source": [
    "import random: 引入 Python 的隨機數生成模組。\n",
    "import pyinputplus as pyip: 引入 pyinputplus 模組並命名為 pyip。\n",
    "while True:: 進入一個無窮迴圈，讓遊戲持續進行，直到使用者決定不再玩。\n",
    "min = 1: 設定猜數字的範圍的最小值為 1。\n",
    "max = 100: 設定猜數字的範圍的最大值為 100。\n",
    "count = 0: 初始化猜數字的次數為 0。\n",
    "target = random.randint(min,max): 隨機生成一個目標數字，範圍在 min 和 max 之間，這就是玩家需要猜的數字。\n",
    "print(target): 輸出目標數字，這是為了方便測試，實際遊戲時應該刪除這行。\n",
    "print(\"=========猜數字遊戲============\\n\"): 輸出遊戲開始的提示訊息。\n",
    "while True:: 進入內部的無窮迴圈，直到玩家猜對數字才會跳出。\n",
    "count += 1: 每進入一次迴圈，猜數字的次數加一。\n",
    "keyin = pyip.inputInt(f\"猜數字的範圍{min}~{max}:\"): 提示玩家輸入一個整數，並將輸入的值存入 keyin 變數中。\n",
    "print(keyin): 輸出玩家輸入的數字。\n",
    "if keyin == target:: 如果玩家輸入的數字等於目標數字。\n",
    "print(f\"賓果!猜對了, 答案是:{target}\"): 輸出猜對了的訊息，並顯示目標數字。\n",
    "print(f\"您總共猜了{count}次\"): 輸出玩家總共猜了多少次。\n",
    "break: 跳出內部迴圈，回到外部迴圈，讓玩家決定是否要繼續玩。\n",
    "elif(keyin > target):: 如果玩家猜的數字大於目標數字。\n",
    "print(\"再小一點\"): 提示玩家再猜一個小一點的數字。\n",
    "max = keyin-1: 更新猜數字範圍的最大值。\n",
    "elif(keyin < target):: 如果玩家猜的數字小於目標數字。\n",
    "print(\"再大一點\"): 提示玩家再猜一個大一點的數字。\n",
    "min = keyin + 1: 更新猜數字範圍的最小值。\n",
    "print(f'您已經猜了{count}次'): 輸出玩家已經猜了多少次。\n",
    "play_again = pyip.inputYesNo(\"還要繼續嗎?(y,n)\"): 提示玩家是否要再玩一次。\n",
    "if play_again == 'no':: 如果玩家選擇不再玩。\n",
    "break: 跳出外部迴圈，遊戲結束。\n",
    "print(\"遊戲結束\"): 輸出遊戲結束的提示訊息。"
   ]
  },
  {
   "cell_type": "code",
   "execution_count": null,
   "metadata": {},
   "outputs": [],
   "source": [
    "# 未使用def語法\n",
    "import random\n",
    "import pyinputplus as pyip\n",
    "\n",
    "while True:\n",
    "    min = 1\n",
    "    max = 100\n",
    "    count = 0\n",
    "    target = random.randint(min,max)\n",
    "    print(target)\n",
    "    print(\"=========猜數字遊戲============\\n\")\n",
    "    while True:\n",
    "        count += 1\n",
    "        keyin = pyip.inputInt(f\"猜數字的範圍{min}~{max}:\")\n",
    "        print(keyin)\n",
    "        if keyin == target:\n",
    "            print(f\"賓果!猜對了, 答案是:{target}\")\n",
    "            print(f\"您總共猜了{count}次\")\n",
    "            break\n",
    "        elif(keyin > target):        \n",
    "            print(\"再小一點\")\n",
    "            max = keyin-1        \n",
    "        elif(keyin < target):\n",
    "            print(\"再大一點\")\n",
    "            min = keyin + 1\n",
    "        print(f'您已經猜了{count}次')\n",
    "    play_again = pyip.inputYesNo(\"還要繼續嗎?(y,n)\")\n",
    "    if play_again == 'no':\n",
    "        break\n",
    "\n",
    "print(\"遊戲結束\")"
   ]
  },
  {
   "cell_type": "markdown",
   "metadata": {},
   "source": [
    "## 使用def語法"
   ]
  },
  {
   "cell_type": "code",
   "execution_count": null,
   "metadata": {},
   "outputs": [],
   "source": [
    "import random\n",
    "import pyinputplus as pyip\n",
    "\n",
    "def play_game():\n",
    "    min = 1\n",
    "    max = 100\n",
    "    count = 0\n",
    "    target = random.randint(min,max)\n",
    "    print(target)\n",
    "    print(\"=========猜數字遊戲============\\n\")\n",
    "    while True:\n",
    "        count += 1\n",
    "        keyin = pyip.inputInt(f\"猜數字的範圍{min}~{max}:\")\n",
    "        print(keyin)\n",
    "        if keyin == target:\n",
    "            print(f\"賓果!猜對了, 答案是:{target}\")\n",
    "            print(f\"您總共猜了{count}次\")\n",
    "            break\n",
    "        elif(keyin > target):        \n",
    "            print(\"再小一點\")\n",
    "            max = keyin-1        \n",
    "        elif(keyin < target):\n",
    "            print(\"再大一點\")\n",
    "            min = keyin + 1\n",
    "        print(f'您已經猜了{count}次')\n",
    "\n",
    "while True:\n",
    "    play_game()\n",
    "    play_again = pyip.inputYesNo(\"還要繼續嗎?(y,n)\")\n",
    "    if play_again == 'no':\n",
    "        break\n",
    "\n",
    "print(\"遊戲結束\")"
   ]
  },
  {
   "cell_type": "markdown",
   "metadata": {},
   "source": [
    "## 改為傳出None"
   ]
  },
  {
   "cell_type": "code",
   "execution_count": 3,
   "metadata": {},
   "outputs": [
    {
     "name": "stdout",
     "output_type": "stream",
     "text": [
      "78\n",
      "=========猜數字遊戲============\n",
      "\n",
      "猜數字的範圍1~100:5\n",
      "再大一點\n",
      "您已經猜了1次\n",
      "猜數字的範圍6~100:50\n",
      "再大一點\n",
      "您已經猜了2次\n",
      "猜數字的範圍51~100:80\n",
      "再小一點\n",
      "您已經猜了3次\n",
      "猜數字的範圍51~79:60\n",
      "再大一點\n",
      "您已經猜了4次\n",
      "猜數字的範圍61~79:70\n",
      "再大一點\n",
      "您已經猜了5次\n",
      "猜數字的範圍71~79:75\n",
      "再大一點\n",
      "您已經猜了6次\n",
      "猜數字的範圍76~79:77\n",
      "再大一點\n",
      "您已經猜了7次\n",
      "猜數字的範圍78~79:78\n",
      "賓果!猜對了, 答案是:78\n",
      "您總共猜了8次\n",
      "還要繼續嗎?(y,n)'79' is not a valid yes/no response.\n",
      "還要繼續嗎?(y,n)遊戲結束\n"
     ]
    }
   ],
   "source": [
    "import random\n",
    "import pyinputplus as pyip\n",
    "\n",
    "def play_game()->None:\n",
    "    min = 1\n",
    "    max = 100\n",
    "    count = 0\n",
    "    target = random.randint(min,max)\n",
    "    print(target)\n",
    "    print(\"=========猜數字遊戲============\\n\")\n",
    "    while True:\n",
    "        count += 1\n",
    "        keyin = pyip.inputInt(f\"猜數字的範圍{min}~{max}:\")\n",
    "        print(keyin)\n",
    "        if keyin == target:\n",
    "            print(f\"賓果!猜對了, 答案是:{target}\")\n",
    "            print(f\"您總共猜了{count}次\")\n",
    "            break\n",
    "        elif(keyin > target):        \n",
    "            print(\"再小一點\")\n",
    "            max = keyin-1        \n",
    "        elif(keyin < target):\n",
    "            print(\"再大一點\")\n",
    "            min = keyin + 1\n",
    "        print(f'您已經猜了{count}次')\n",
    "\n",
    "while True:\n",
    "    play_game()\n",
    "    play_again = pyip.inputYesNo(\"還要繼續嗎?(y,n)\")\n",
    "    if play_again == 'no':\n",
    "        break\n",
    "\n",
    "print(\"遊戲結束\")"
   ]
  }
 ],
 "metadata": {
  "kernelspec": {
   "display_name": "Python 3",
   "language": "python",
   "name": "python3"
  },
  "language_info": {
   "codemirror_mode": {
    "name": "ipython",
    "version": 3
   },
   "file_extension": ".py",
   "mimetype": "text/x-python",
   "name": "python",
   "nbconvert_exporter": "python",
   "pygments_lexer": "ipython3",
   "version": "3.10.14"
  }
 },
 "nbformat": 4,
 "nbformat_minor": 2
}
