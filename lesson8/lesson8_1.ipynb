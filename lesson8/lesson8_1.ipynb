{
 "cells": [
  {
   "cell_type": "markdown",
   "metadata": {},
   "source": [
    "## 猜數字遊戲\n",
    "- 使用random()語法 產生亂數"
   ]
  },
  {
   "cell_type": "code",
   "execution_count": 29,
   "metadata": {},
   "outputs": [
    {
     "data": {
      "text/plain": [
       "61"
      ]
     },
     "execution_count": 29,
     "metadata": {},
     "output_type": "execute_result"
    }
   ],
   "source": [
    "import random\n",
    "min=1\n",
    "max=100\n",
    "target = random.randint(min,max)\n",
    "target"
   ]
  },
  {
   "cell_type": "markdown",
   "metadata": {},
   "source": [
    "- 先使用了 import random 來引入 Python 的隨機數生成模組，以及 import pyinputplus as pyip 來引入 pyinputplus 模組。接著定義了變數 min 和 max 分別表示猜數字的範圍的最小值和最大值，count 變數用來計數玩家總共猜了多少次，target 變數用 random.randint(min,max) 隨機生成一個玩家要猜的目標數字。\n",
    "\n",
    "- 然後進入一個無窮迴圈 while True，在這個迴圈中，玩家將被提示輸入一個數字，並且根據輸入的數字進行判斷：\n",
    "\n",
    "- 如果輸入的數字等於目標數字 target，則顯示猜對了的訊息，並結束遊戲。\n",
    "- 如果輸入的數字大於目標數字 target，則顯示 \"再小一點\" 的訊息，並將 max 更新為輸入的數字減1。\n",
    "- 如果輸入的數字小於目標數字 target，則顯示 \"再大一點\" 的訊息，並將 min 更新為輸入的數字加1。\n",
    "- 在每一次迴圈結束時，會顯示玩家已經猜了多少次。當玩家猜對了數字時，迴圈會被 break 中止，並顯示遊戲結束的訊息。"
   ]
  },
  {
   "cell_type": "code",
   "execution_count": 28,
   "metadata": {},
   "outputs": [
    {
     "name": "stdout",
     "output_type": "stream",
     "text": [
      "=========猜數字遊戲============\n",
      "\n",
      "猜數字的範圍1~100:50\n",
      "再大一點\n",
      "您已經猜了1次\n",
      "猜數字的範圍51~100:80\n",
      "再小一點\n",
      "您已經猜了2次\n",
      "猜數字的範圍51~79:60\n",
      "再小一點\n",
      "您已經猜了3次\n",
      "猜數字的範圍51~59:55\n",
      "再小一點\n",
      "您已經猜了4次\n",
      "猜數字的範圍51~54:52\n",
      "再大一點\n",
      "您已經猜了5次\n",
      "猜數字的範圍53~54:54\n",
      "賓果!猜對了, 答案是:54\n",
      "您總共猜了6次\n",
      "遊戲結束\n"
     ]
    }
   ],
   "source": [
    "import random\n",
    "import pyinputplus as pyip\n",
    "\n",
    "min = 1\n",
    "max = 100\n",
    "count = 0\n",
    "target = random.randint(min,max)\n",
    "print(\"=========猜數字遊戲============\\n\")\n",
    "while True:\n",
    "    count += 1\n",
    "    keyin = pyip.inputInt(f\"猜數字的範圍{min}~{max}:\")\n",
    "    print(keyin)\n",
    "    if keyin == target:\n",
    "        print(f\"賓果!猜對了, 答案是:{target}\")\n",
    "        print(f\"您總共猜了{count}次\")\n",
    "        break\n",
    "    elif(keyin > target):        \n",
    "        print(\"再小一點\")\n",
    "        max = keyin-1        \n",
    "    elif(keyin < target):\n",
    "        print(\"再大一點\")\n",
    "        min = keyin + 1\n",
    "    print(f'您已經猜了{count}次')\n",
    "\n",
    "print(\"遊戲結束\")"
   ]
  }
 ],
 "metadata": {
  "kernelspec": {
   "display_name": "Python 3",
   "language": "python",
   "name": "python3"
  },
  "language_info": {
   "codemirror_mode": {
    "name": "ipython",
    "version": 3
   },
   "file_extension": ".py",
   "mimetype": "text/x-python",
   "name": "python",
   "nbconvert_exporter": "python",
   "pygments_lexer": "ipython3",
   "version": "3.10.14"
  }
 },
 "nbformat": 4,
 "nbformat_minor": 2
}
