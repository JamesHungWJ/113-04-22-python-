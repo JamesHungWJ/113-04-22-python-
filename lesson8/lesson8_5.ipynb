{
 "cells": [
  {
   "cell_type": "code",
   "execution_count": 3,
   "metadata": {},
   "outputs": [
    {
     "data": {
      "text/plain": [
       "4000"
      ]
     },
     "execution_count": 3,
     "metadata": {},
     "output_type": "execute_result"
    }
   ],
   "source": [
    "#type hint,function一訂要加型別提示\n",
    "\n",
    "def add(a:int|float,b:int|float) ->int|float:\n",
    "    return a+b\n",
    "def multiply(a:int|float,b:int|float) ->int|float:\n",
    "    return a*b\n",
    "\n",
    "add(5,20)\n",
    "multiply(80,50)"
   ]
  },
  {
   "cell_type": "markdown",
   "metadata": {},
   "source": [
    "# 第8堂-課業練習\n",
    "# 計算BMI\n",
    "- 輸入:\n",
    "- 1)請輸入姓名:xxxx\n",
    "- 2)請輸入身高(cm):\n",
    "- 3)請輸入體重(kg):\n",
    " \n",
    "- 請使用自訂的function\n",
    "- 1)建立bmi的function,會傳出bmi\n",
    "- 2)建立get_status,會傳出字串\n",
    "- 3)可以使用pypi\n",
    "- 輸出:\n",
    "- 1)xxxx,您的BMI:25.52\n",
    "- 2)xxxx,您的體重過重\n",
    "- 錯誤:\n",
    "格式錯誤:xxxxxxxxxxxxx"
   ]
  }
 ],
 "metadata": {
  "kernelspec": {
   "display_name": "Python 3",
   "language": "python",
   "name": "python3"
  },
  "language_info": {
   "codemirror_mode": {
    "name": "ipython",
    "version": 3
   },
   "file_extension": ".py",
   "mimetype": "text/x-python",
   "name": "python",
   "nbconvert_exporter": "python",
   "pygments_lexer": "ipython3",
   "version": "3.10.14"
  }
 },
 "nbformat": 4,
 "nbformat_minor": 2
}
