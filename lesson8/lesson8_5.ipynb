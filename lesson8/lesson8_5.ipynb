{
 "cells": [
  {
   "cell_type": "code",
   "execution_count": 3,
   "metadata": {},
   "outputs": [
    {
     "data": {
      "text/plain": [
       "4000"
      ]
     },
     "execution_count": 3,
     "metadata": {},
     "output_type": "execute_result"
    }
   ],
   "source": [
    "#type hint,function一訂要加型別提示\n",
    "\n",
    "def add(a:int|float,b:int|float) ->int|float:\n",
    "    return a+b\n",
    "def multiply(a:int|float,b:int|float) ->int|float:\n",
    "    return a*b\n",
    "\n",
    "add(5,20)\n",
    "multiply(80,50)"
   ]
  },
  {
   "cell_type": "markdown",
   "metadata": {},
   "source": [
    "# 第8堂-課業練習\n",
    "# 計算BMI\n",
    "- 輸入:\n",
    "-   1)請輸入姓名:xxxx\n",
    "-   2)請輸入身高(cm):\n",
    "-   3)請輸入體重(kg):\n",
    " \n",
    "- 請使用自訂的function\n",
    "- 1)建立bmi的function,會傳出bmi\n",
    "- 2)建立get_status,會傳出字串\n",
    "- 3)可以使用pypi\n",
    "- 輸出:\n",
    "- 1)xxxx,您的BMI:25.52\n",
    "- 2)xxxx,您的體重過重\n",
    "- 錯誤:\n",
    "格式錯誤:xxxxxxxxxxxxx"
   ]
  },
  {
   "cell_type": "code",
   "execution_count": 5,
   "metadata": {},
   "outputs": [
    {
     "name": "stdout",
     "output_type": "stream",
     "text": [
      "請輸入身高(120~230)(cm):請輸入體重(40~170)(kg):Number must be at maximum 170.\n",
      "請輸入體重(40~170)(kg):您的身高為156.0公分\n",
      "您的體重為150.0公斤\n",
      "回五結, 您的BMI為:61.64\n",
      "回五結, 您屬於:重度肥胖\n"
     ]
    }
   ],
   "source": [
    "import pyinputplus as pyip\n",
    "\n",
    "def bmi(weight: float, height: float) -> float:\n",
    "    return weight / (height / 100) ** 2\n",
    "def get_status(bmi: float) -> str:\n",
    "    if bmi < 18.5:\n",
    "        result = '體重過輕'\n",
    "    elif bmi < 24:\n",
    "        result = '體重正常'\n",
    "    elif bmi < 27:\n",
    "        result = '體重過重'\n",
    "    elif bmi < 30:\n",
    "        result = '輕度肥胖'\n",
    "    elif bmi < 35:\n",
    "        result = '中度肥胖'\n",
    "    else:\n",
    "        result = '重度肥胖'\n",
    "    return result\n",
    "\n",
    "try:\n",
    "    name = input('請輸入姓名:');\n",
    "    height = pyip.inputFloat('請輸入身高(120~230)(cm):', min = 120, max = 230)\n",
    "    weight = pyip.inputFloat('請輸入體重(40~170)(kg):', min = 40, max = 170)\n",
    "    bmi_value = bmi(weight, height)\n",
    "    print(f'您的身高為{height}公分')\n",
    "    print(f'您的體重為{weight}公斤')\n",
    "    print(f'{name}, 您的BMI為:{bmi_value:.2f}')\n",
    "    print(f'{name}, 您屬於:{get_status(bmi_value)}')\n",
    "\n",
    "except Exception as e:\n",
    "    print(f'格式錯誤:{e}')"
   ]
  },
  {
   "cell_type": "code",
   "execution_count": 6,
   "metadata": {},
   "outputs": [
    {
     "ename": "SyntaxError",
     "evalue": "unmatched ')' (131008895.py, line 2)",
     "output_type": "error",
     "traceback": [
      "\u001b[0;36m  Cell \u001b[0;32mIn[6], line 2\u001b[0;36m\u001b[0m\n\u001b[0;31m    result weight / (heigh / 100) **2)\u001b[0m\n\u001b[0m                                     ^\u001b[0m\n\u001b[0;31mSyntaxError\u001b[0m\u001b[0;31m:\u001b[0m unmatched ')'\n"
     ]
    }
   ],
   "source": [
    "def bmi_show(weight:int|float,heigh:int|float):\n",
    "    result weight / (heigh / 100) **2)\n",
    "def get_status(bmi:int|float):\n",
    "    if bmi <18.5:\n",
    "        result=\"體重過輕\"\n",
    "    elif bmi < 24:\n",
    "        result=\"健康體重\"\n",
    "    elif bmi < 27:\n",
    "        result=\"體重過重\"\n",
    "    elif bmi < 30:\n",
    "        result=\"輕度肥胖\"\n",
    "    elif bmi < 35:\n",
    "        result=\"中度肥胖\"\n",
    "    else:\n",
    "        result=\"種度肥胖\"\n",
    "    return result\n",
    "\n",
    "try:\n",
    "    name=input(\"請輸入姓名:\")\n",
    "    height=input(\"請輸入身高(cm):\",min=1,max=200)\n",
    "    weight=input(\"請輸入體重(kg):\",min=1,max=200)\n",
    "    bmi=(weight / (height / 100) **2):.2f\n",
    "\n",
    "\n",
    "\n",
    "print(f\"{name},您的bmi為{bmi}，\")"
   ]
  }
 ],
 "metadata": {
  "kernelspec": {
   "display_name": "Python 3",
   "language": "python",
   "name": "python3"
  },
  "language_info": {
   "codemirror_mode": {
    "name": "ipython",
    "version": 3
   },
   "file_extension": ".py",
   "mimetype": "text/x-python",
   "name": "python",
   "nbconvert_exporter": "python",
   "pygments_lexer": "ipython3",
   "version": "3.10.14"
  }
 },
 "nbformat": 4,
 "nbformat_minor": 2
}
