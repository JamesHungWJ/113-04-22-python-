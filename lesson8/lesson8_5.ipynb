{
 "cells": [
  {
   "cell_type": "code",
   "execution_count": 3,
   "metadata": {},
   "outputs": [
    {
     "data": {
      "text/plain": [
       "4000"
      ]
     },
     "execution_count": 3,
     "metadata": {},
     "output_type": "execute_result"
    }
   ],
   "source": [
    "#type hint,function一訂要加型別提示\n",
    "\n",
    "def add(a:int|float,b:int|float) ->int|float:\n",
    "    return a+b\n",
    "def multiply(a:int|float,b:int|float) ->int|float:\n",
    "    return a*b\n",
    "\n",
    "add(5,20)\n",
    "multiply(80,50)"
   ]
  },
  {
   "cell_type": "markdown",
   "metadata": {},
   "source": [
    "# 第8堂-課業練習\n",
    "# 計算BMI\n",
    "- 輸入:\n",
    "- 1)請輸入姓名:xxxx\n",
    "- 2)請輸入身高(cm):\n",
    "- 3)請輸入體重(kg):\n",
    " \n",
    "- 請使用自訂的function\n",
    "- 1)建立bmi的function,會傳出bmi\n",
    "- 2)建立get_status,會傳出字串\n",
    "- 3)可以使用pypi\n",
    "- 輸出:\n",
    "- 1)xxxx,您的BMI:25.52\n",
    "- 2)xxxx,您的體重過重\n",
    "- 錯誤:\n",
    "格式錯誤:xxxxxxxxxxxxx"
   ]
  },
  {
   "cell_type": "code",
   "execution_count": 13,
   "metadata": {},
   "outputs": [
    {
     "name": "stdout",
     "output_type": "stream",
     "text": [
      "請輸入身高(cm):請輸入體重(kg):\n",
      "james, 您的BMI: 26.67，您是過重\n"
     ]
    }
   ],
   "source": [
    "import pyinputplus as py\n",
    "def bmi_show(height: float, weight: float) -> float:\n",
    "    return weight / (height / 100) ** 2\n",
    "def valu_show (bmi:float) ->str:\n",
    "    if bmi < 18.5:\n",
    "        result = '過輕'\n",
    "    elif bmi < 24:\n",
    "        result = '正常'\n",
    "    elif bmi < 27:\n",
    "        result = '過重'\n",
    "    elif bmi < 30:\n",
    "        result = '輕度肥胖'\n",
    "    elif bmi < 35:\n",
    "        result = '中度肥胖'\n",
    "    else:\n",
    "        result = '重度肥胖'\n",
    "    return result\n",
    "\n",
    "name=input(\"請輸入姓名:\")\n",
    "height=py.inputFloat('請輸入身高(cm):', min = 1, max = 200) \n",
    "weight=py.inputFloat('請輸入體重(kg):', min = 1, max = 200)\n",
    "\n",
    "bmi:float = bmi_show(height,weight) #引數值的呼叫\n",
    "valu:str = valu_show(bmi)\n",
    "\n",
    "print(f'\\n{name}, 您的BMI: {bmi:.2f}，您是{valu}')"
   ]
  }
 ],
 "metadata": {
  "kernelspec": {
   "display_name": "Python 3",
   "language": "python",
   "name": "python3"
  },
  "language_info": {
   "codemirror_mode": {
    "name": "ipython",
    "version": 3
   },
   "file_extension": ".py",
   "mimetype": "text/x-python",
   "name": "python",
   "nbconvert_exporter": "python",
   "pygments_lexer": "ipython3",
   "version": "3.10.14"
  }
 },
 "nbformat": 4,
 "nbformat_minor": 2
}
