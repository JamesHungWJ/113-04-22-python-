{
 "cells": [
  {
   "cell_type": "markdown",
   "metadata": {},
   "source": [
    "- 執行多項選擇，嚴格的邏輯運算子(判斷)【and】，要寫在上面，較寬鬆的邏輯運算子(判斷)【or、not】，要寫在下面。"
   ]
  },
  {
   "cell_type": "code",
   "execution_count": 4,
   "metadata": {},
   "outputs": [
    {
     "ename": "ValueError",
     "evalue": "invalid literal for int() with base 10: ''",
     "output_type": "error",
     "traceback": [
      "\u001b[0;31m---------------------------------------------------------------------------\u001b[0m",
      "\u001b[0;31mValueError\u001b[0m                                Traceback (most recent call last)",
      "Cell \u001b[0;32mIn[4], line 3\u001b[0m\n\u001b[1;32m      1\u001b[0m \u001b[38;5;66;03m#國文100同時數學100分,獎金1000元\u001b[39;00m\n\u001b[1;32m      2\u001b[0m \u001b[38;5;66;03m#國文100或者數學100分,獎金500元\u001b[39;00m\n\u001b[0;32m----> 3\u001b[0m chinese \u001b[38;5;241m=\u001b[39m \u001b[38;5;28;43mint\u001b[39;49m\u001b[43m(\u001b[49m\u001b[38;5;28;43minput\u001b[39;49m\u001b[43m(\u001b[49m\u001b[38;5;124;43m\"\u001b[39;49m\u001b[38;5;124;43m請輸入國文分數\u001b[39;49m\u001b[38;5;124;43m\"\u001b[39;49m\u001b[43m)\u001b[49m\u001b[43m)\u001b[49m\n\u001b[1;32m      4\u001b[0m math \u001b[38;5;241m=\u001b[39m \u001b[38;5;28mint\u001b[39m(\u001b[38;5;28minput\u001b[39m(\u001b[38;5;124m\"\u001b[39m\u001b[38;5;124m請輸入數學分數\u001b[39m\u001b[38;5;124m\"\u001b[39m))\n\u001b[1;32m      6\u001b[0m \u001b[38;5;28;01mif\u001b[39;00m chinese \u001b[38;5;241m==\u001b[39m \u001b[38;5;241m100\u001b[39m \u001b[38;5;129;01mand\u001b[39;00m math \u001b[38;5;241m==\u001b[39m \u001b[38;5;241m100\u001b[39m: \u001b[38;5;66;03m#嚴格的判斷\u001b[39;00m\n",
      "\u001b[0;31mValueError\u001b[0m: invalid literal for int() with base 10: ''"
     ]
    }
   ],
   "source": [
    "#國文100同時數學100分,獎金1000元\n",
    "#國文100或者數學100分,獎金500元\n",
    "chinese = int(input(\"請輸入國文分數\"))\n",
    "math = int(input(\"請輸入數學分數\"))\n",
    "\n",
    "if chinese == 100 and math == 100: #嚴格的判斷\n",
    "    bonus = 1000\n",
    "elif chinese == 100 or math == 100: #寬鬆的判斷\n",
    "    bonus = 500\n",
    "else:\n",
    "    bonus = 0\n",
    "\n",
    "print(f\"獎金:{bonus}\")"
   ]
  }
 ],
 "metadata": {
  "kernelspec": {
   "display_name": "Python 3",
   "language": "python",
   "name": "python3"
  },
  "language_info": {
   "codemirror_mode": {
    "name": "ipython",
    "version": 3
   },
   "file_extension": ".py",
   "mimetype": "text/x-python",
   "name": "python",
   "nbconvert_exporter": "python",
   "pygments_lexer": "ipython3",
   "version": "3.10.14"
  }
 },
 "nbformat": 4,
 "nbformat_minor": 2
}
