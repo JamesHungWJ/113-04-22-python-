{
 "cells": [
  {
   "cell_type": "code",
   "execution_count": null,
   "metadata": {},
   "outputs": [],
   "source": [
    "try:\n",
    "    name=input(\"請輸入您的姓名：\")\n",
    "    hieght=float(input(\"請輸入您的身高(cm)\"))\n",
    "    wieght=float(input(\"請輸入您的體重\"))\n",
    "    bmi=round(wieght/((hieght/100)**2),ndigits=2)\n",
    "    print(f\"{name},您的身高為{hieght}，體重為{wieght},經計算BMI為{bmi}\")\n",
    "except Exception as e:\n",
    "    print(f\"發生錯誤{e}\")"
   ]
  }
 ],
 "metadata": {
  "language_info": {
   "name": "python"
  }
 },
 "nbformat": 4,
 "nbformat_minor": 2
}
