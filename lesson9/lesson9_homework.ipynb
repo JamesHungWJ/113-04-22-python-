{
 "cells": [
  {
   "cell_type": "markdown",
   "metadata": {},
   "source": [
    "## 第9堂-課業練習-1\n",
    "建立class BMI\n",
    "\n",
    "建立attribute->name,height,weight\n",
    "\n",
    "建立property->bmi\n",
    "\n",
    "建立實體方法def status(self) -> str\n",
    "\n",
    "輸入\n",
    "- 請輸入姓名:\n",
    "- 請輸入身高:\n",
    "- 請輸入體重:\n",
    "\n",
    "輸出\n",
    "- xxx您好:\n",
    "- 您的bmi值是24.24\n",
    "- 您的體重:正常"
   ]
  },
  {
   "cell_type": "code",
   "execution_count": null,
   "metadata": {},
   "outputs": [],
   "source": []
  },
  {
   "cell_type": "markdown",
   "metadata": {},
   "source": [
    "## 第9堂-課業練習-2\n",
    "建立class BMI\n",
    "\n",
    "建立Fields->name,height,weight\n",
    "\n",
    "建立property->bmi\n",
    "\n",
    "建立實體方法def status(self) -> str\n",
    "\n",
    "輸入\n",
    "- 請輸入姓名:\n",
    "- 請輸入身高:\n",
    "- 請輸入體重:\n",
    "\n",
    "輸出\n",
    "- xxx您好:\n",
    "- 您的bmi值是24.24\n",
    "- 您的體重:正常"
   ]
  },
  {
   "cell_type": "code",
   "execution_count": null,
   "metadata": {},
   "outputs": [],
   "source": []
  }
 ],
 "metadata": {
  "kernelspec": {
   "display_name": "Python 3",
   "language": "python",
   "name": "python3"
  },
  "language_info": {
   "name": "python",
   "version": "3.10.14"
  }
 },
 "nbformat": 4,
 "nbformat_minor": 2
}
