{
 "cells": [
  {
   "cell_type": "markdown",
   "metadata": {},
   "source": [
    "## type() 函式\n",
    "class 類別"
   ]
  },
  {
   "cell_type": "code",
   "execution_count": 1,
   "metadata": {},
   "outputs": [
    {
     "name": "stdout",
     "output_type": "stream",
     "text": [
      "<class 'int'>\n"
     ]
    }
   ],
   "source": [
    "n=5\n",
    "print(type(n))"
   ]
  },
  {
   "cell_type": "markdown",
   "metadata": {},
   "source": [
    "## 自訂的class(類別)\n",
    "- 如果是自訂的class，第一個字母用大寫\n",
    "- 建立class，可以使用initial，就能建立一個實體/物件。"
   ]
  },
  {
   "cell_type": "code",
   "execution_count": 3,
   "metadata": {},
   "outputs": [
    {
     "data": {
      "text/plain": [
       "__main__.Person"
      ]
     },
     "execution_count": 3,
     "metadata": {},
     "output_type": "execute_result"
    }
   ],
   "source": [
    "class Person():\n",
    "    pass\n",
    "\n",
    "p1=Person()\n",
    "type(p1)"
   ]
  },
  {
   "cell_type": "markdown",
   "metadata": {},
   "source": [
    "## 實體內的專有名稱\n",
    "- attribute(屬性) -->功能是儲存資料\n",
    "- property(屬性)-->功能是儲存資料，並能檢查傳入的資料\n",
    "- instance method(實體方法)"
   ]
  },
  {
   "cell_type": "code",
   "execution_count": 9,
   "metadata": {},
   "outputs": [
    {
     "name": "stdout",
     "output_type": "stream",
     "text": [
      "p1的name是洪偉傑\n",
      "p2的name是James Hung\n"
     ]
    }
   ],
   "source": [
    "#自訂attribute，必須要有initial\n",
    "#自訂的init\n",
    "#建立attribute name\n",
    "class Person():\n",
    "    def __init__(self,n:str): #所有的def，只要在class裡面都要加入self，有__代表內建\n",
    "        self.name = n\n",
    "\n",
    "p1 = Person(\"洪偉傑\")\n",
    "print(f\"p1的name是{p1.name}\")\n",
    "\n",
    "p2 = Person(\"James Hung\")\n",
    "print(f\"p2的name是{p2.name}\")"
   ]
  },
  {
   "cell_type": "code",
   "execution_count": 11,
   "metadata": {},
   "outputs": [
    {
     "ename": "SyntaxError",
     "evalue": "expected ':' (2810618158.py, line 7)",
     "output_type": "error",
     "traceback": [
      "\u001b[0;36m  Cell \u001b[0;32mIn[11], line 7\u001b[0;36m\u001b[0m\n\u001b[0;31m    def __repr__(self)\u001b[0m\n\u001b[0m                      ^\u001b[0m\n\u001b[0;31mSyntaxError\u001b[0m\u001b[0;31m:\u001b[0m expected ':'\n"
     ]
    }
   ],
   "source": [
    "#自訂attribute，必須要有initial\n",
    "#自訂的init\n",
    "#建立attribute name\n",
    "class Person():\n",
    "    def __init__(self,n:str): #所有的def，只要在class裡面都要加入self，有__代表內建\n",
    "        self.name = n\n",
    "    def __repr__(self):\n",
    "        return(f\"我是Person的實體，我的名字是{self.name}\")\n",
    "    \n",
    "p1 = Person(\"洪偉傑\")\n",
    "print(f\"p1的name是{p1.name}\")\n",
    "print(p1)\n",
    "\n",
    "p2 = Person(\"James Hung\")\n",
    "print(f\"p2的name是{p2.name}\")\n",
    "print(p2)"
   ]
  },
  {
   "cell_type": "markdown",
   "metadata": {},
   "source": [
    "1:16:44"
   ]
  }
 ],
 "metadata": {
  "kernelspec": {
   "display_name": "Python 3",
   "language": "python",
   "name": "python3"
  },
  "language_info": {
   "codemirror_mode": {
    "name": "ipython",
    "version": 3
   },
   "file_extension": ".py",
   "mimetype": "text/x-python",
   "name": "python",
   "nbconvert_exporter": "python",
   "pygments_lexer": "ipython3",
   "version": "3.10.14"
  }
 },
 "nbformat": 4,
 "nbformat_minor": 2
}
