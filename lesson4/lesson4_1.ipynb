{
 "cells": [
  {
   "cell_type": "markdown",
   "metadata": {},
   "source": [
    "## round(number, ndigits=None) \n",
    "傳回 number 舍入到小數點後 ndigits 位元精度的值。如果 ndigits 被省略或為 None，則傳回最接近輸入值的整數。"
   ]
  },
  {
   "cell_type": "code",
   "execution_count": 5,
   "metadata": {
    "metadata": {}
   },
   "outputs": [
    {
     "name": "stdout",
     "output_type": "stream",
     "text": [
      "3\n",
      "3.1\n",
      "3.14\n"
     ]
    }
   ],
   "source": [
    "print(round(3.1415926))\n",
    "print(round(3.1415926,ndigits=1))\n",
    "print(round(3.1415926,ndigits=2))"
   ]
  },
  {
   "cell_type": "code",
   "execution_count": 6,
   "metadata": {
    "metadata": {}
   },
   "outputs": [
    {
     "name": "stdout",
     "output_type": "stream",
     "text": [
      "4\n"
     ]
    }
   ],
   "source": [
    "import math\n",
    "print(math.ceil(3.1415926))"
   ]
  },
  {
   "cell_type": "markdown",
   "metadata": {},
   "source": [
    "## 複合指定運算值\n",
    "「n *= 5」   「n += 5」  「n -= 5」  「n /=5」"
   ]
  },
  {
   "cell_type": "code",
   "execution_count": 7,
   "metadata": {},
   "outputs": [
    {
     "name": "stdout",
     "output_type": "stream",
     "text": [
      "50\n"
     ]
    }
   ],
   "source": [
    "n=10\n",
    "n*=5\n",
    "print(n)"
   ]
  },
  {
   "cell_type": "markdown",
   "metadata": {},
   "source": [
    "## 請使用者輸入一個任意數，程式會顯示此數的平方值及立方值"
   ]
  },
  {
   "cell_type": "markdown",
   "metadata": {},
   "source": [
    "input -->是能傳出值\n",
    "print -->純粹輸出\n",
    "## eval(expression, globals=None, locals=None)\n",
    "引數是一個字符串，以及選擇性的 globals 和 locals。如果有提供選擇性引數，globals 必須是一個 dictionary。 locals 可以是任何映射 (mapping) 物件。"
   ]
  },
  {
   "cell_type": "markdown",
   "metadata": {},
   "source": [
    "## 複雜版\n",
    "第4、7行 有等於，不會傳出值"
   ]
  },
  {
   "cell_type": "code",
   "execution_count": 4,
   "metadata": {
    "metadata": {}
   },
   "outputs": [
    {
     "name": "stdout",
     "output_type": "stream",
     "text": [
      "您輸入的數值是10,平方值是100\n",
      "您輸入的數值是10,立方值是1000\n"
     ]
    }
   ],
   "source": [
    "source_value = eval(input(\"請輸入任意數:\"))\n",
    "value = source_value\n",
    "value **= 2\n",
    "print(f\"您輸入的數值是{source_value},平方值是{value}\")\n",
    "value = source_value\n",
    "value **= 3\n",
    "print(f\"您輸入的數值是{source_value},立方值是{value}\")"
   ]
  },
  {
   "cell_type": "markdown",
   "metadata": {},
   "source": [
    "## 簡單版，加入字串插補\n",
    "第2、3行沒有等於，直接傳出一個值"
   ]
  },
  {
   "cell_type": "code",
   "execution_count": 8,
   "metadata": {
    "metadata": {}
   },
   "outputs": [
    {
     "name": "stdout",
     "output_type": "stream",
     "text": [
      "您輸入的數值是10,平方值是100\n",
      "您輸入的數值是10,立方值是1000\n"
     ]
    }
   ],
   "source": [
    "value = eval(input(\"請輸入任意數:\"))\n",
    "print(f\"您輸入的數值是{value},平方值是{value ** 2}\") \n",
    "print(f\"您輸入的數值是{value},立方值是{value ** 3}\") "
   ]
  },
  {
   "cell_type": "markdown",
   "metadata": {},
   "source": [
    "## 請設計程式,讓用者輸入三個任意數，程式會顯示3數相加的總和(float)\n",
    "一般方式要設定3個變數"
   ]
  },
  {
   "cell_type": "code",
   "execution_count": 9,
   "metadata": {},
   "outputs": [
    {
     "name": "stdout",
     "output_type": "stream",
     "text": [
      "10 + 20 + 30 = 60\n"
     ]
    }
   ],
   "source": [
    "n1 = eval(input(\"請輸入第一個數:\"))\n",
    "n2 = eval(input(\"請輸入第二個數:\"))\n",
    "n3 = eval(input(\"請輸入第三個數:\"))\n",
    "total = n1 + n2 + n3\n",
    "print(f'{n1} + {n2} + {n3} = {round(total,ndigits=2)}')"
   ]
  },
  {
   "cell_type": "markdown",
   "metadata": {},
   "source": [
    "## 請以(複合指定運算子)設計程式,讓用者輸入三個任意數，程式會顯示3數相加的總和(float)\n",
    "只要命名一個數即可"
   ]
  },
  {
   "cell_type": "code",
   "execution_count": 10,
   "metadata": {},
   "outputs": [
    {
     "name": "stdout",
     "output_type": "stream",
     "text": [
      "第一個數=50\n",
      "第二個數=25\n",
      "第三個數=95.5\n",
      "總合是170.5\n"
     ]
    }
   ],
   "source": [
    "total = 0\n",
    "n = eval(input(\"請輸入第一個數:\"))\n",
    "total += n\n",
    "print(f\"第一個數={n}\")\n",
    "\n",
    "n = eval(input(\"請輸入第二個數:\"))\n",
    "total += n\n",
    "print(f\"第二個數={n}\")\n",
    "\n",
    "n = eval(input(\"請輸入第三個數:\"))\n",
    "total += n\n",
    "print(f\"第三個數={n}\")\n",
    "\n",
    "print(f'總合是{round(total,ndigits=2)}')"
   ]
  }
 ],
 "metadata": {
  "kernelspec": {
   "display_name": "Python 3",
   "language": "python",
   "name": "python3"
  },
  "language_info": {
   "codemirror_mode": {
    "name": "ipython",
    "version": 3
   },
   "file_extension": ".py",
   "mimetype": "text/x-python",
   "name": "python",
   "nbconvert_exporter": "python",
   "pygments_lexer": "ipython3",
   "version": "3.10.14"
  }
 },
 "nbformat": 4,
 "nbformat_minor": 2
}
