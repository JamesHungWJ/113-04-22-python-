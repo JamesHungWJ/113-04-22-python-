{
 "cells": [
  {
   "cell_type": "markdown",
   "metadata": {},
   "source": [
    "## 讓使用者輸入直角三角形的對邊\n",
    "## 讓使用者輸入直角三角形的斜邊\n",
    "## 計算角度\n",
    "##\n",
    "##\n",
    "## 公式：\n",
    "## sin(x)=對邊/斜邊\n",
    "## x是radian(弧度)"
   ]
  },
  {
   "cell_type": "markdown",
   "metadata": {},
   "source": [
    "先用import呼叫數學模組(math)，然後讓math當中的asin可以使用 \\\n",
    "math.asin(x)：傳回以弧度為單位的 x 的反正弦值。結果範圍在 -pi/2 到 pi/2 之間。\n",
    "math.degrees(x)：將角度 x 從弧度轉換為度數。"
   ]
  },
  {
   "cell_type": "code",
   "execution_count": null,
   "metadata": {},
   "outputs": [],
   "source": [
    "import math\n",
    "side = eval(input(\"請輸入對邊:\"))\n",
    "ano_side = eval(input(\"請輸入斜邊:\"))\n",
    "\n",
    "radian = math.asin(side / ano_side)\n",
    "degree = round(math.degrees(radian),ndigits=2)\n",
    "\n",
    "print(f\"角度為{degree}\")"
   ]
  },
  {
   "cell_type": "markdown",
   "metadata": {},
   "source": [
    "https://code.visualstudio.com/"
   ]
  }
 ],
 "metadata": {
  "kernelspec": {
   "display_name": "Python 3",
   "language": "python",
   "name": "python3"
  },
  "language_info": {
   "name": "python",
   "version": "3.10.14"
  }
 },
 "nbformat": 4,
 "nbformat_minor": 2
}
