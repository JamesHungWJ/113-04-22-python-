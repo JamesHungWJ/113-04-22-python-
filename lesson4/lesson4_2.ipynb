{
 "cells": [
  {
   "cell_type": "markdown",
   "metadata": {},
   "source": [
    "## 讓使用者輸入直角三角形的對邊\n",
    "## 讓使用者輸入直角三角形的斜邊\n",
    "## 計算角度\n",
    "## 公式：\n",
    "- sin(x)=對邊/斜邊\n",
    "- x是radian(弧度)"
   ]
  },
  {
   "cell_type": "markdown",
   "metadata": {},
   "source": [
    "- 先用import呼叫數學模組(math)，然後讓math當中的asin可以使用\n",
    "- math.asin(x)：傳回以弧度為單位的 x 的反正弦值。結果範圍在 -pi/2 到 pi/2 之間。\n",
    "- math.degrees(x)：將角度 x 從弧度轉換為度數。"
   ]
  },
  {
   "cell_type": "code",
   "execution_count": null,
   "metadata": {},
   "outputs": [],
   "source": [
    "import math\n",
    "side = eval(input(\"請輸入對邊:\"))\n",
    "ano_side = eval(input(\"請輸入斜邊:\"))\n",
    "\n",
    "radian = math.asin(side / ano_side)\n",
    "degree = round(math.degrees(radian),ndigits=2)\n",
    "\n",
    "print(f\"角度為{degree}\")"
   ]
  },
  {
   "cell_type": "markdown",
   "metadata": {},
   "source": [
    "https://code.visualstudio.com/"
   ]
  },
  {
   "cell_type": "code",
   "execution_count": 8,
   "metadata": {},
   "outputs": [
    {
     "name": "stdout",
     "output_type": "stream",
     "text": [
      "梯形的上底10公分，下底20公分，高30公分\n",
      "梯形的面積為450.0平方公分\n"
     ]
    }
   ],
   "source": [
    "upper= eval(input(\"請輸入梯形上底(公分):\"))\n",
    "bottom= eval(input(\"請輸入梯形下底(公分):\"))\n",
    "hiegh= eval(input(\"請輸入梯形高(公分):\"))\n",
    "area=(upper+bottom)*hiegh/2\n",
    "print(f\"梯形的上底{upper}公分，下底{bottom}公分，高{hiegh}公分\\n梯形的面積為{area}平方公分\")"
   ]
  }
 ],
 "metadata": {
  "kernelspec": {
   "display_name": "Python 3",
   "language": "python",
   "name": "python3"
  },
  "language_info": {
   "codemirror_mode": {
    "name": "ipython",
    "version": 3
   },
   "file_extension": ".py",
   "mimetype": "text/x-python",
   "name": "python",
   "nbconvert_exporter": "python",
   "pygments_lexer": "ipython3",
   "version": "3.10.14"
  }
 },
 "nbformat": 4,
 "nbformat_minor": 2
}
