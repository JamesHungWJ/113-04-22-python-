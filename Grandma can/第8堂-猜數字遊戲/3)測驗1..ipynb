{
 "cells": [
  {
   "cell_type": "code",
   "execution_count": 1,
   "metadata": {},
   "outputs": [
    {
     "ename": "NameError",
     "evalue": "name 'c' is not defined",
     "output_type": "error",
     "traceback": [
      "\u001b[0;31m---------------------------------------------------------------------------\u001b[0m",
      "\u001b[0;31mNameError\u001b[0m                                 Traceback (most recent call last)",
      "Cell \u001b[0;32mIn[1], line 6\u001b[0m\n\u001b[1;32m      4\u001b[0m     \u001b[38;5;28;01mreturn\u001b[39;00m c\n\u001b[1;32m      5\u001b[0m fun1 (\u001b[38;5;241m10\u001b[39m,\u001b[38;5;241m20\u001b[39m)\n\u001b[0;32m----> 6\u001b[0m \u001b[38;5;28mprint\u001b[39m(\u001b[43mc\u001b[49m)\n",
      "\u001b[0;31mNameError\u001b[0m: name 'c' is not defined"
     ]
    }
   ],
   "source": [
    "# 第一題 #\n",
    "def fun1(a,b):\n",
    "    c=a+b\n",
    "    return c\n",
    "fun1 (10,20)\n",
    "print(c)"
   ]
  },
  {
   "cell_type": "markdown",
   "metadata": {},
   "source": [
    "# 第一題解析\n",
    "之所以錯誤是因為c在函式內創建的變數，是一個區域變數，只能在函式內使用，但卻要在函式外印出，才會呈現錯誤，所以出現c是沒有定義的"
   ]
  },
  {
   "cell_type": "code",
   "execution_count": 2,
   "metadata": {},
   "outputs": [
    {
     "name": "stdout",
     "output_type": "stream",
     "text": [
      "5\n"
     ]
    }
   ],
   "source": [
    "# 第二題 #\n",
    "x=5\n",
    "def fun2():\n",
    "    x=50\n",
    "    return x\n",
    "fun2\n",
    "print(x)"
   ]
  },
  {
   "cell_type": "markdown",
   "metadata": {},
   "source": [
    "# 第二題解析\n",
    "創建了一個全域變數x=5，再創建一個函式，有一個區域變數x=50，但因為缺少global這個關鍵字來宣告變數，所以x實際上還是5。"
   ]
  },
  {
   "cell_type": "code",
   "execution_count": 4,
   "metadata": {},
   "outputs": [
    {
     "name": "stdout",
     "output_type": "stream",
     "text": [
      "100\n"
     ]
    }
   ],
   "source": [
    "# 第三題 #\n",
    "x=10\n",
    "def fun3():\n",
    "    global x\n",
    "    x=50\n",
    "    if 2>1:\n",
    "        x=100\n",
    "    return x\n",
    "fun3()\n",
    "print(x)"
   ]
  },
  {
   "cell_type": "markdown",
   "metadata": {},
   "source": [
    "# 第三題解析\n",
    "- 創建了一個全域變數x，值等於10；再創建一個函式，有一個區域變數x，值等於50，但函式中有global來宣告全域變數，此時全域變數的值則改變成50。\n",
    "- 用if來判斷，如果2大於1，值變成100，這個if有成立，所以回傳x，最後呼叫了fun3函式，然後印出100。"
   ]
  }
 ],
 "metadata": {
  "kernelspec": {
   "display_name": "Python 3",
   "language": "python",
   "name": "python3"
  },
  "language_info": {
   "codemirror_mode": {
    "name": "ipython",
    "version": 3
   },
   "file_extension": ".py",
   "mimetype": "text/x-python",
   "name": "python",
   "nbconvert_exporter": "python",
   "pygments_lexer": "ipython3",
   "version": "3.10.14"
  }
 },
 "nbformat": 4,
 "nbformat_minor": 2
}
