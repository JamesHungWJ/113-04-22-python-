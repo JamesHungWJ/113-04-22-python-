{
 "cells": [
  {
   "cell_type": "code",
   "execution_count": 2,
   "metadata": {},
   "outputs": [
    {
     "name": "stdout",
     "output_type": "stream",
     "text": [
      "函式內部：2\n",
      "函式外部：2\n"
     ]
    }
   ],
   "source": [
    "a=1\n",
    "def abc():\n",
    "    global a #只要在函式裡使用global這個關鍵字來宣告變數，這樣Python就會知道該變數是全域變數。\n",
    "    a = 2 #如果有沒有global來做宣告的話，這裡的a=2是指創建了一個區域變數a，並讓值等於2。\n",
    "    print(f\"函式內部：{a}\")\n",
    "\n",
    "abc()\n",
    "print(f\"函式外部：{a}\") #這裡印出來的a等於全域變數的a，值等於1"
   ]
  },
  {
   "cell_type": "code",
   "execution_count": 4,
   "metadata": {},
   "outputs": [
    {
     "name": "stdout",
     "output_type": "stream",
     "text": [
      "函式內部：1\n",
      "函式外部：2\n"
     ]
    }
   ],
   "source": [
    "## 用return方式回傳回去\n",
    "a=1\n",
    "def abc():\n",
    "    print(f\"函式內部：{a}\")\n",
    "    return 2\n",
    "\n",
    "a = abc()\n",
    "print(f\"函式外部：{a}\")"
   ]
  }
 ],
 "metadata": {
  "kernelspec": {
   "display_name": "Python 3",
   "language": "python",
   "name": "python3"
  },
  "language_info": {
   "codemirror_mode": {
    "name": "ipython",
    "version": 3
   },
   "file_extension": ".py",
   "mimetype": "text/x-python",
   "name": "python",
   "nbconvert_exporter": "python",
   "pygments_lexer": "ipython3",
   "version": "3.10.14"
  }
 },
 "nbformat": 4,
 "nbformat_minor": 2
}
