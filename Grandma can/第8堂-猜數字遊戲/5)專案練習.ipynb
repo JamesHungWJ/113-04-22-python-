{
 "cells": [
  {
   "cell_type": "code",
   "execution_count": 3,
   "metadata": {},
   "outputs": [
    {
     "name": "stdout",
     "output_type": "stream",
     "text": [
      "歡迎來到猜數字遊戲\n",
      "謎底為1~100隨機的一個整數(最多5次猜測機會)\n",
      "第1次猜測\n",
      "您猜測的數字為50\n",
      "請小一點\n",
      "第2次猜測\n",
      "您猜測的數字為40\n",
      "請小一點\n",
      "第3次猜測\n",
      "您猜測的數字為30\n",
      "請小一點\n",
      "第4次猜測\n",
      "您猜測的數字為20\n",
      "請小一點\n",
      "第5次猜測\n",
      "您猜測的數字為10\n",
      "請大一點\n",
      "你輸了，超出猜測次數\n",
      "謎底是15\n"
     ]
    }
   ],
   "source": [
    "#猜數字遊戲\n",
    "\n",
    "print(\"歡迎來到猜數字遊戲\")\n",
    "print(\"謎底為1~100隨機的一個整數(最多5次猜測機會)\")\n",
    "\n",
    "import random\n",
    "random_num = random.randint(1,100)\n",
    "guess_num=0\n",
    "\n",
    "\n",
    "while True:\n",
    "    guess_num += 1\n",
    "    if guess_num  >= 6:\n",
    "        print(\"你輸了，超出猜測次數\")\n",
    "        print(f\"謎底是{random_num}\")\n",
    "        break\n",
    "    print(f\"第{guess_num}次猜測\")\n",
    "\n",
    "    user_guess = input(\"請輸入猜測的文字\")\n",
    "    print(f\"您猜測的數字為{user_guess}\")\n",
    "    if user_guess.isdigit():\n",
    "        user_guess = int(user_guess)\n",
    "    else:\n",
    "        print(\"只能輸入整數\")\n",
    "        continue\n",
    "\n",
    "    if user_guess > random_num:\n",
    "        print(\"請小一點\")\n",
    "    elif user_guess < random_num:\n",
    "        print(\"請大一點\")\n",
    "    else:\n",
    "        print(\"恭喜答對了\")\n",
    "        break\n"
   ]
  }
 ],
 "metadata": {
  "kernelspec": {
   "display_name": "Python 3",
   "language": "python",
   "name": "python3"
  },
  "language_info": {
   "codemirror_mode": {
    "name": "ipython",
    "version": 3
   },
   "file_extension": ".py",
   "mimetype": "text/x-python",
   "name": "python",
   "nbconvert_exporter": "python",
   "pygments_lexer": "ipython3",
   "version": "3.10.14"
  }
 },
 "nbformat": 4,
 "nbformat_minor": 2
}
