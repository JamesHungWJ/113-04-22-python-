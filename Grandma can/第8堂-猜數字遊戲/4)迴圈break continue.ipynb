{
 "cells": [
  {
   "cell_type": "markdown",
   "metadata": {},
   "source": [
    "# 迴圈用法 break：強制跳出 ❮整個❯ 迴圈"
   ]
  },
  {
   "cell_type": "code",
   "execution_count": 6,
   "metadata": {},
   "outputs": [
    {
     "name": "stdout",
     "output_type": "stream",
     "text": [
      "1\n",
      "2\n",
      "3\n",
      "4\n",
      "跳出迴圈\n"
     ]
    }
   ],
   "source": [
    "for i in range(1,6):\n",
    "    print(i)\n",
    "    if i==4:\n",
    "        break #迴圈只要遇到break，就會直接跳出迴圈\n",
    "print(\"跳出迴圈\")"
   ]
  },
  {
   "cell_type": "code",
   "execution_count": 7,
   "metadata": {},
   "outputs": [
    {
     "name": "stdout",
     "output_type": "stream",
     "text": [
      "1\n",
      "2\n",
      "3\n",
      "4\n",
      "5\n",
      "跳出迴圈\n"
     ]
    }
   ],
   "source": [
    "i=1\n",
    "while i<6:\n",
    "    print(i)\n",
    "    if i==3:\n",
    "        break\n",
    "    i +=1\n",
    "print(\"跳出迴圈\")"
   ]
  },
  {
   "cell_type": "code",
   "execution_count": 2,
   "metadata": {},
   "outputs": [
    {
     "name": "stdout",
     "output_type": "stream",
     "text": [
      "1\n",
      "2\n",
      "3\n",
      "跳出迴圈\n"
     ]
    }
   ],
   "source": [
    "i=1\n",
    "while i<6:\n",
    "    print(i)\n",
    "    if i==3:\n",
    "        break\n",
    "    i +=1\n",
    "print(\"跳出迴圈\")"
   ]
  },
  {
   "cell_type": "code",
   "execution_count": 8,
   "metadata": {},
   "outputs": [
    {
     "name": "stdout",
     "output_type": "stream",
     "text": [
      "20\n",
      "30\n",
      "40\n",
      "50\n",
      "100\n",
      "跳出迴圈\n"
     ]
    }
   ],
   "source": [
    "for i in [20,30,40,50,100,60,80,90,100]:\n",
    "    print(i)\n",
    "    if i==100:\n",
    "        break\n",
    "print(\"跳出迴圈\")"
   ]
  },
  {
   "cell_type": "markdown",
   "metadata": {},
   "source": [
    "# 迴圈 continue：強制跳出 ❮本次❯ 迴圈，繼續進入下一圈"
   ]
  },
  {
   "cell_type": "code",
   "execution_count": 9,
   "metadata": {},
   "outputs": [
    {
     "name": "stdout",
     "output_type": "stream",
     "text": [
      "跳出迴圈\n"
     ]
    }
   ],
   "source": [
    "highest = 0\n",
    "for i in [20,30,40,50,100,60,80,90,100]:\n",
    "    if i == 30:\n",
    "        continue #當迴圈遇到continue時，會直接跳到下一個迴圈，之後的程式碼不會執行。\n",
    "print(\"跳出迴圈\")"
   ]
  },
  {
   "cell_type": "code",
   "execution_count": 11,
   "metadata": {},
   "outputs": [
    {
     "name": "stdout",
     "output_type": "stream",
     "text": [
      "1\n",
      "2\n",
      "4\n",
      "5\n",
      "跳出迴圈\n"
     ]
    }
   ],
   "source": [
    "i=1\n",
    "while i<6:\n",
    "\n",
    "    if i==3:\n",
    "        i +=1\n",
    "        continue\n",
    "    print(i)\n",
    "    i +=1\n",
    "print(\"跳出迴圈\")"
   ]
  }
 ],
 "metadata": {
  "kernelspec": {
   "display_name": "Python 3",
   "language": "python",
   "name": "python3"
  },
  "language_info": {
   "codemirror_mode": {
    "name": "ipython",
    "version": 3
   },
   "file_extension": ".py",
   "mimetype": "text/x-python",
   "name": "python",
   "nbconvert_exporter": "python",
   "pygments_lexer": "ipython3",
   "version": "3.10.14"
  }
 },
 "nbformat": 4,
 "nbformat_minor": 2
}
