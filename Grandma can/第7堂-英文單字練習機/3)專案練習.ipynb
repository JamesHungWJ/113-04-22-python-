{
 "cells": [
  {
   "cell_type": "code",
   "execution_count": 17,
   "metadata": {},
   "outputs": [
    {
     "name": "stdout",
     "output_type": "stream",
     "text": [
      "第1題\n",
      "恭喜答對了\n",
      "第2題\n",
      "您答錯了，答案是:hand\n",
      "第3題\n",
      "恭喜答對了\n",
      "總共3題,答對了2題\n"
     ]
    }
   ],
   "source": [
    "eng_dic = {\n",
    "    \"蘋果\": \"apple\",\n",
    "    \"香蕉\": \"banana\",\n",
    "    \"貓\": \"cat\",\n",
    "    \"狗\": \"dog\",\n",
    "    \"蛋\": \"egg\",\n",
    "    \"食物\": \"food\",\n",
    "    \"遊戲\": \"game\",\n",
    "    \"手\": \"hand\",\n",
    "    \"冰\": \"ice\",\n",
    "    \"果醬\": \"jam\",\n",
    "    \"國王\": \"king\",\n",
    "    \"標籤\": \"label\",\n",
    "    \"郵件\": \"mail\",\n",
    "    \"脖子\": \"neck\",\n",
    "    \"油\": \"oil\",\n",
    "    \"豬\": \"pig\",\n",
    "    \"皇后\": \"queen\"\n",
    "}\n",
    "import random\n",
    "question_num = int(input(\"請問要練習幾題?\")) #這裡輸入要練習3題\n",
    "questions=list(eng_dic)\n",
    "score = 0\n",
    "for i in range(1,question_num+1) :\n",
    "# +1的原因是，如使用者輸入的數是3，表示要進入迴圈3次，但實際上只會進入迴圈2次，\n",
    "# 即產生一組1到3之間，不包含3的整數，只會出現整數1、整數2。\n",
    "    random_question = questions[random.randint(0,len(questions)-1)]  #random.randint回傳一個隨機整數 N，使得 a <= N <= b。\n",
    "    print(f\"第{i}題\")\n",
    "    ans = input (f\"請問'{random_question}'英文是:\")\n",
    "    if ans == eng_dic[random_question]:\n",
    "        print(\"恭喜答對了\")\n",
    "        score += 1\n",
    "    else:\n",
    "        print(f\"您答錯了，答案是:{eng_dic[random_question]}\")\n",
    "print(f\"總共{question_num}題,答對了{score}題\")"
   ]
  },
  {
   "cell_type": "code",
   "execution_count": 13,
   "metadata": {},
   "outputs": [
    {
     "name": "stdout",
     "output_type": "stream",
     "text": [
      "恭喜答對了\n"
     ]
    }
   ],
   "source": [
    "eng_dic = {\n",
    "    \"蘋果\": \"apple\",\n",
    "    \"香蕉\": \"banana\",\n",
    "    \"貓\": \"cat\",\n",
    "    \"狗\": \"dog\",\n",
    "    \"蛋\": \"egg\",\n",
    "    \"食物\": \"food\",\n",
    "    \"遊戲\": \"game\",\n",
    "    \"手\": \"hand\",\n",
    "    \"冰\": \"ice\",\n",
    "    \"果醬\": \"jam\",\n",
    "    \"國王\": \"king\",\n",
    "    \"標籤\": \"label\",\n",
    "    \"郵件\": \"mail\",\n",
    "    \"脖子\": \"neck\",\n",
    "    \"油\": \"oil\",\n",
    "    \"豬\": \"pig\",\n",
    "    \"皇后\": \"queen\"\n",
    "}\n",
    "import random\n",
    "questions=list(eng_dic)\n",
    "random_questions = questions[random.randint(0,len(questions)-1)]  #random.randint回傳一個隨機整數 N，使得 a <= N <= b。\n",
    "ans = input (f\"請問'{random_questions}'英文是:\")\n",
    "if ans == eng_dic[random_questions]:\n",
    "    print(\"恭喜答對了\")\n",
    "else:\n",
    "    print(f\"您答錯了，答案是:{eng_dic[random_questions]}\")"
   ]
  }
 ],
 "metadata": {
  "kernelspec": {
   "display_name": "Python 3",
   "language": "python",
   "name": "python3"
  },
  "language_info": {
   "codemirror_mode": {
    "name": "ipython",
    "version": 3
   },
   "file_extension": ".py",
   "mimetype": "text/x-python",
   "name": "python",
   "nbconvert_exporter": "python",
   "pygments_lexer": "ipython3",
   "version": "3.10.14"
  }
 },
 "nbformat": 4,
 "nbformat_minor": 2
}
