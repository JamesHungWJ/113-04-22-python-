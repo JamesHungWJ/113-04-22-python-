{
 "cells": [
  {
   "cell_type": "markdown",
   "metadata": {},
   "source": [
    "## 字典 dictionary"
   ]
  },
  {
   "cell_type": "code",
   "execution_count": 8,
   "metadata": {},
   "outputs": [
    {
     "name": "stdout",
     "output_type": "stream",
     "text": [
      "{'蘋果': 'apple', '香蕉': 'banana', '貓': 'cat', 'age': 23, 'score': 80.5, 'is_male': True, 0: '愛上你', 2.5: '哈哈', 1: 'James'}\n",
      "80.5\n"
     ]
    }
   ],
   "source": [
    "# 鍵       值\n",
    "#key     value\n",
    "#蘋果    apple\n",
    "#香蕉    banana\n",
    "\n",
    "eng_dic={\n",
    "    \"蘋果\":\"apple\",\n",
    "    \"香蕉\":\"banana\",\n",
    "    \"貓\":\"cat\",\n",
    "    \"age\":23,\n",
    "    \"score\":80.5,\n",
    "    \"is_male\":True,\n",
    "    0:\"你好\",\n",
    "    2.5:\"哈哈\"\n",
    "    }\n",
    "eng_dic[1]=\"James\"  #中括號中的值，是字典中沒有的鍵，則會生成一個新的\n",
    "eng_dic[0]=\"愛上你\"  #反之，如果中括號裡面的值(0)，是字典中原本就有的鍵，則鍵對應的值，就會被改寫成愛上你\n",
    "\n",
    "print(eng_dic)\n",
    "print(eng_dic[\"score\"])\n",
    "\n"
   ]
  },
  {
   "cell_type": "markdown",
   "metadata": {},
   "source": [
    "## 使用for迴圈"
   ]
  },
  {
   "cell_type": "code",
   "execution_count": 12,
   "metadata": {},
   "outputs": [
    {
     "name": "stdout",
     "output_type": "stream",
     "text": [
      "蘋果\n",
      "apple\n",
      "香蕉\n",
      "banana\n",
      "貓\n",
      "cat\n",
      "age\n",
      "23\n",
      "score\n",
      "80.5\n",
      "is_male\n",
      "True\n",
      "0\n",
      "你好\n",
      "2.5\n",
      "哈哈\n"
     ]
    }
   ],
   "source": [
    "eng_dic={\n",
    "    \"蘋果\":\"apple\",\n",
    "    \"香蕉\":\"banana\",\n",
    "    \"貓\":\"cat\",\n",
    "    \"age\":23,\n",
    "    \"score\":80.5,\n",
    "    \"is_male\":True,\n",
    "    0:\"你好\",\n",
    "    2.5:\"哈哈\"\n",
    "    }\n",
    "\n",
    "for key in eng_dic:\n",
    "    print(key) #印出鍵\n",
    "    print(eng_dic[key])#印出值\n",
    "#以蘋果舉例，key(鍵)代表蘋果，所以在中括號中的item就會變成蘋果print(eng_dic[\"蘋果\"])，\n",
    "#然後將蘋果相對應的值取出，就會得到apple。"
   ]
  },
  {
   "cell_type": "markdown",
   "metadata": {},
   "source": [
    "## 測驗1"
   ]
  },
  {
   "cell_type": "code",
   "execution_count": 36,
   "metadata": {},
   "outputs": [
    {
     "name": "stdout",
     "output_type": "stream",
     "text": [
      "{'小白': '一般客戶', '小黑': '一般客戶', '小黃': 'VIP客戶', '小綠': 'VIP客戶', '小灰': '一般客戶'}\n"
     ]
    }
   ],
   "source": [
    "#消費總金額大於等於1萬，則為VIP客戶，否則為一般客戶\n",
    "customer_spending={\n",
    "    \"小白\":2000,\n",
    "    \"小黑\":3000,\n",
    "    \"小黃\":12000,\n",
    "    \"小綠\":15000,\n",
    "    \"小灰\":8000,\n",
    "}\n",
    "\n",
    "for key in customer_spending:\n",
    "    if customer_spending[key] >= 10000:\n",
    "        customer_spending[key]=\"VIP客戶\"\n",
    "    else:\n",
    "        customer_spending[key]=\"一般客戶\"\n",
    "print(customer_spending)"
   ]
  }
 ],
 "metadata": {
  "kernelspec": {
   "display_name": "Python 3",
   "language": "python",
   "name": "python3"
  },
  "language_info": {
   "codemirror_mode": {
    "name": "ipython",
    "version": 3
   },
   "file_extension": ".py",
   "mimetype": "text/x-python",
   "name": "python",
   "nbconvert_exporter": "python",
   "pygments_lexer": "ipython3",
   "version": "3.10.14"
  }
 },
 "nbformat": 4,
 "nbformat_minor": 2
}
