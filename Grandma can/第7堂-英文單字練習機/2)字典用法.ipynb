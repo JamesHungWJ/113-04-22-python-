{
 "cells": [
  {
   "cell_type": "markdown",
   "metadata": {},
   "source": [
    "\"name\":[\"小紅\",\"小偉\",\"小傑\",\"小黑\",\"小鄭\"]\n",
    "          [0]    [1]   [2]    [3]    [4]"
   ]
  },
  {
   "cell_type": "code",
   "execution_count": 8,
   "metadata": {},
   "outputs": [
    {
     "name": "stdout",
     "output_type": "stream",
     "text": [
      "['小紅', '小偉', '小傑', '小黑', '小鄭']\n",
      "小偉\n",
      "小黑\n"
     ]
    }
   ],
   "source": [
    "students = {\n",
    "    \"name\":[\"小紅\",\"小偉\",\"小傑\",\"小黑\",\"小鄭\"]\n",
    "}\n",
    "\n",
    "print(students[\"name\"] )#可以取出name全部的值\n",
    "print(students[\"name\"][1]) #取出第1個字串\n",
    "print(students[\"name\"][3])"
   ]
  },
  {
   "cell_type": "code",
   "execution_count": 32,
   "metadata": {},
   "outputs": [
    {
     "name": "stdout",
     "output_type": "stream",
     "text": [
      "小偉\n",
      "25\n"
     ]
    }
   ],
   "source": [
    "students = {\n",
    "    \"name\":[\"小紅\",\"小偉\",\"小傑\",\"小黑\",\"小鄭\"],\n",
    "    \"age\":{\n",
    "        \"小紅\":23,\n",
    "        \"小偉\":25,\n",
    "        \"小傑\":20,\n",
    "        \"小黑\":19,\n",
    "        \"小鄭\":15\n",
    "    }\n",
    "}\n",
    "\n",
    "print(students[\"name\"][1]) #取出第1個字串\n",
    "print(students[\"age\"][\"小偉\"]) #取出年齡"
   ]
  },
  {
   "cell_type": "code",
   "execution_count": 39,
   "metadata": {},
   "outputs": [
    {
     "name": "stdout",
     "output_type": "stream",
     "text": [
      "[{'name': '小紅', 'age': 23}, {'name': '小偉', 'age': 25}, {'name': '小傑', 'age': 20}, {'name': '小黑', 'age': 19}, {'name': '小鄭', 'age': 15}]\n",
      "小紅\n",
      "23\n"
     ]
    }
   ],
   "source": [
    "students_list = [\n",
    "    {\n",
    "        \"name\":\"小紅\",\n",
    "        \"age\":23\n",
    "    },\n",
    "    {\n",
    "        \"name\":\"小偉\",\n",
    "        \"age\":25\n",
    "    },\n",
    "    {\n",
    "        \"name\":\"小傑\",\n",
    "        \"age\":20\n",
    "    },\n",
    "    {\n",
    "        \"name\":\"小黑\",\n",
    "        \"age\":19\n",
    "    },\n",
    "    {\n",
    "        \"name\":\"小鄭\",\n",
    "        \"age\":15\n",
    "    }\n",
    "]\n",
    "\n",
    "print(students_list)\n",
    "print(students_list[0][\"name\"])\n",
    "print(students_list[0][\"age\"])"
   ]
  },
  {
   "cell_type": "code",
   "execution_count": 51,
   "metadata": {},
   "outputs": [
    {
     "name": "stdout",
     "output_type": "stream",
     "text": [
      "dict_keys(['name', 'age'])\n",
      "age\n",
      "['name', 'age']\n",
      "dict_values([['小紅', '小偉', '小傑', '小黑', '小鄭'], {'小紅': 23, '小偉': 25, '小傑': 20, '小黑': 19, '小鄭': 15}])\n",
      "['小紅', '小偉', '小傑', '小黑', '小鄭']\n"
     ]
    }
   ],
   "source": [
    "## 列表經常使用的函式\n",
    "students = {\n",
    "    \"name\":[\"小紅\",\"小偉\",\"小傑\",\"小黑\",\"小鄭\"],\n",
    "    \"age\":{\n",
    "        \"小紅\":23,\n",
    "        \"小偉\":25,\n",
    "        \"小傑\":20,\n",
    "        \"小黑\":19,\n",
    "        \"小鄭\":15\n",
    "    }\n",
    "}\n",
    "\n",
    "\n",
    "#函式：keys，取得當中所有的鍵\n",
    "print(students.keys()) #回傳全部的鍵\n",
    "print(list(students))  #跟上面一行一樣，回傳全部的鍵\n",
    "print(list(students.keys())[1])\n",
    "##函式：value，取得當中所有的值\n",
    "print(students.values())\n",
    "print(list(students.values())[0])"
   ]
  },
  {
   "cell_type": "markdown",
   "metadata": {},
   "source": [
    "## 測驗2\n",
    "- 從以下名單中，隨機挑選一位，並將他們的資訊印出來"
   ]
  },
  {
   "cell_type": "code",
   "execution_count": 87,
   "metadata": {},
   "outputs": [
    {
     "name": "stdout",
     "output_type": "stream",
     "text": [
      "抽到的是小偉\n",
      "年齡30\n",
      "身高180.1\n",
      "體重65\n",
      "\n",
      "年齡30\n",
      "身高180.1\n",
      "體重65\n"
     ]
    }
   ],
   "source": [
    "students = {\n",
    "    \"小紅\":{\n",
    "        \"age\":23,\n",
    "        \"height\":170.5,\n",
    "        \"weight\":60\n",
    "    },\n",
    "    \"小偉\":{\n",
    "        \"age\":30,\n",
    "        \"height\":180.1,\n",
    "        \"weight\":65\n",
    "    },\n",
    "    \"小傑\":{\n",
    "        \"age\":15,\n",
    "        \"height\":165,\n",
    "        \"weight\":45\n",
    "    },\n",
    "    \"小黑\":{\n",
    "        \"age\":40,\n",
    "        \"height\":180.8,\n",
    "        \"weight\":75\n",
    "    },\n",
    "}\n",
    "import random  #隨機挑選可以使用random模組(生成偽隨機數)\n",
    "students_name = list(students)\n",
    "random_name = students_name[random.randint(0,3)]  #random.randint回傳一個隨機整數 N，使得 a <= N <= b。\n",
    "print(f\"抽到的是{random_name}\")\n",
    "print(f'年齡{students[random_name][\"age\"]}')\n",
    "print(f'身高{students[random_name][\"height\"]}')\n",
    "print(f'體重{students[random_name][\"weight\"]}\\n') \n",
    "\n",
    "print(f'年齡{students[random_name][\"age\"]}\\n身高{students[random_name][\"height\"]}\\n體重{students[random_name][\"weight\"]}')\n",
    "\n"
   ]
  }
 ],
 "metadata": {
  "kernelspec": {
   "display_name": "Python 3",
   "language": "python",
   "name": "python3"
  },
  "language_info": {
   "codemirror_mode": {
    "name": "ipython",
    "version": 3
   },
   "file_extension": ".py",
   "mimetype": "text/x-python",
   "name": "python",
   "nbconvert_exporter": "python",
   "pygments_lexer": "ipython3",
   "version": "3.10.14"
  }
 },
 "nbformat": 4,
 "nbformat_minor": 2
}
