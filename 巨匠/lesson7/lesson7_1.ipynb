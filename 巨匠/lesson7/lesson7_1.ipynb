{
 "cells": [
  {
   "cell_type": "markdown",
   "metadata": {},
   "source": [
    "## 以複合指定運算子方式，緩慢加起來"
   ]
  },
  {
   "cell_type": "code",
   "execution_count": 1,
   "metadata": {},
   "outputs": [
    {
     "name": "stdout",
     "output_type": "stream",
     "text": [
      "1加到10等於55\n"
     ]
    }
   ],
   "source": [
    "#1加總至10的結果\n",
    "#一般方式進行加總\n",
    "total = 0\n",
    "total += 1\n",
    "total += 2\n",
    "total += 3\n",
    "total += 4\n",
    "total += 5\n",
    "total += 6\n",
    "total += 7\n",
    "total += 8\n",
    "total += 9\n",
    "total += 10\n",
    "\n",
    "print(f\"1加到10等於{total}\")"
   ]
  },
  {
   "cell_type": "markdown",
   "metadata": {},
   "source": [
    "# 以「迴圈」方式\n",
    "- for...in     明確知道執行的次數，採此迴圈\n",
    "- while...bool 無法知道執行的次數，採此迴圈"
   ]
  },
  {
   "cell_type": "markdown",
   "metadata": {},
   "source": [
    "# 介紹for...in...迴圈"
   ]
  },
  {
   "cell_type": "markdown",
   "metadata": {},
   "source": [
    "# range()\n",
    "- class range(stop)\n",
    "- class range(start, stop, step=1)\n",
    "\n",
    "- range 建構\n",
    "- 1)參數必須為整數（可以是內建的 int 或任何實作了 __index__() 特殊方法的物件）。\n",
    "- 2)如果省略 step 參數，則預設為 1。\n",
    "- 3)如果省略 start 參數，則預設為 0。\n",
    "- 4)如果 step 為零，則會引發 ValueError。\n",
    "\n",
    "- 若 step 為正值，則確定 range r 內容的公式為 r[i] = start + step*i 其中 i >= 0 且 r[i] < stop。\n",
    "\n",
    "- 如果 step 為負值，確定 range 內容的公式仍然為 r[i] = start + step*i，但限制條件改為 i >= 0 且 r[i] > stop.\n",
    "\n",
    "- 如果 r[0] 不符合值的限制條件，則該 range 物件為空。 range 物件確實支援負索引，但是會將其解讀為從正索引所確定的序列的末尾開始索引。"
   ]
  },
  {
   "cell_type": "code",
   "execution_count": 1,
   "metadata": {},
   "outputs": [
    {
     "name": "stdout",
     "output_type": "stream",
     "text": [
      "0\n",
      "1\n",
      "2\n",
      "3\n",
      "4\n"
     ]
    }
   ],
   "source": [
    "for i in range(5):  # range(stop)\n",
    "    print(i)"
   ]
  },
  {
   "cell_type": "code",
   "execution_count": 33,
   "metadata": {},
   "outputs": [
    {
     "name": "stdout",
     "output_type": "stream",
     "text": [
      "123456789"
     ]
    }
   ],
   "source": [
    "for i in range(1,10): #每次加1\n",
    "    print(i,end='')  #加入end，則不換行。"
   ]
  },
  {
   "cell_type": "code",
   "execution_count": 3,
   "metadata": {},
   "outputs": [
    {
     "name": "stdout",
     "output_type": "stream",
     "text": [
      "1 3 5 7 9 "
     ]
    }
   ],
   "source": [
    "for i in range(1,10,2):   # range(start, stop, step=1)\n",
    "    print(i,end=' ')      #加入end，則不換行。"
   ]
  },
  {
   "cell_type": "code",
   "execution_count": 4,
   "metadata": {},
   "outputs": [
    {
     "name": "stdout",
     "output_type": "stream",
     "text": [
      "1加到10等於55\n"
     ]
    }
   ],
   "source": [
    "total = 0\n",
    "for i in range(1,11):\n",
    "    total += i\n",
    "\n",
    "print(f\"1加到10等於{total}\")"
   ]
  },
  {
   "cell_type": "code",
   "execution_count": 5,
   "metadata": {},
   "outputs": [
    {
     "name": "stdout",
     "output_type": "stream",
     "text": [
      "1加到10等於55\n"
     ]
    }
   ],
   "source": [
    "total = 0\n",
    "for i in range(10,0,-1):  # range(start, stop, step=1)\n",
    "    total += i\n",
    "\n",
    "print(f\"1加到10等於{total}\")"
   ]
  },
  {
   "cell_type": "code",
   "execution_count": 12,
   "metadata": {},
   "outputs": [
    {
     "name": "stdout",
     "output_type": "stream",
     "text": [
      "請輸入1加到?(最大到1000,最小10):\n",
      "1+...+500:125250\n"
     ]
    }
   ],
   "source": [
    "import pyinputplus as pyip  #呼叫pyinputplus\n",
    "n = pyip.inputInt(\"請輸入1加到?(最大到1000,最小10):\\n\",min=10,max=1000)  #\\n換行\n",
    "total = 0\n",
    "for i in range(1,n+1):\n",
    "    total += i\n",
    "print(f\"1+...+{n}:{total}\")"
   ]
  },
  {
   "cell_type": "markdown",
   "metadata": {},
   "source": [
    "# 巢狀迴圈"
   ]
  },
  {
   "cell_type": "code",
   "execution_count": 16,
   "metadata": {},
   "outputs": [
    {
     "name": "stdout",
     "output_type": "stream",
     "text": [
      "i=1,j=1 i=1,j=2 i=1,j=3 i=1,j=4 i=1,j=5 i=1,j=6 i=1,j=7 i=1,j=8 i=1,j=9 \n",
      "===========\n",
      "i=2,j=1 i=2,j=2 i=2,j=3 i=2,j=4 i=2,j=5 i=2,j=6 i=2,j=7 i=2,j=8 i=2,j=9 \n",
      "===========\n",
      "i=3,j=1 i=3,j=2 i=3,j=3 i=3,j=4 i=3,j=5 i=3,j=6 i=3,j=7 i=3,j=8 i=3,j=9 \n",
      "===========\n",
      "i=4,j=1 i=4,j=2 i=4,j=3 i=4,j=4 i=4,j=5 i=4,j=6 i=4,j=7 i=4,j=8 i=4,j=9 \n",
      "===========\n",
      "i=5,j=1 i=5,j=2 i=5,j=3 i=5,j=4 i=5,j=5 i=5,j=6 i=5,j=7 i=5,j=8 i=5,j=9 \n",
      "===========\n",
      "i=6,j=1 i=6,j=2 i=6,j=3 i=6,j=4 i=6,j=5 i=6,j=6 i=6,j=7 i=6,j=8 i=6,j=9 \n",
      "===========\n",
      "i=7,j=1 i=7,j=2 i=7,j=3 i=7,j=4 i=7,j=5 i=7,j=6 i=7,j=7 i=7,j=8 i=7,j=9 \n",
      "===========\n",
      "i=8,j=1 i=8,j=2 i=8,j=3 i=8,j=4 i=8,j=5 i=8,j=6 i=8,j=7 i=8,j=8 i=8,j=9 \n",
      "===========\n",
      "i=9,j=1 i=9,j=2 i=9,j=3 i=9,j=4 i=9,j=5 i=9,j=6 i=9,j=7 i=9,j=8 i=9,j=9 \n",
      "===========\n"
     ]
    }
   ],
   "source": [
    "for i in range(1,10):    \n",
    "    for j in range(1,10):\n",
    "        print(f\"i={i},j={j}\",end=' ')\n",
    "    print(\"\\n===========\")   #print()，print內部是空的，預設為換行。"
   ]
  },
  {
   "cell_type": "code",
   "execution_count": 35,
   "metadata": {},
   "outputs": [
    {
     "name": "stdout",
     "output_type": "stream",
     "text": [
      "1*1=1   1*2=2   1*3=3   1*4=4   1*5=5   1*6=6   1*7=7   1*8=8   1*9=9   \n",
      "2*1=2   2*2=4   2*3=6   2*4=8   2*5=10   2*6=12   2*7=14   2*8=16   2*9=18   \n",
      "3*1=3   3*2=6   3*3=9   3*4=12   3*5=15   3*6=18   3*7=21   3*8=24   3*9=27   \n",
      "4*1=4   4*2=8   4*3=12   4*4=16   4*5=20   4*6=24   4*7=28   4*8=32   4*9=36   \n",
      "5*1=5   5*2=10   5*3=15   5*4=20   5*5=25   5*6=30   5*7=35   5*8=40   5*9=45   \n",
      "6*1=6   6*2=12   6*3=18   6*4=24   6*5=30   6*6=36   6*7=42   6*8=48   6*9=54   \n",
      "7*1=7   7*2=14   7*3=21   7*4=28   7*5=35   7*6=42   7*7=49   7*8=56   7*9=63   \n",
      "8*1=8   8*2=16   8*3=24   8*4=32   8*5=40   8*6=48   8*7=56   8*8=64   8*9=72   \n",
      "9*1=9   9*2=18   9*3=27   9*4=36   9*5=45   9*6=54   9*7=63   9*8=72   9*9=81   \n"
     ]
    }
   ],
   "source": [
    "for i in range(1,10):    \n",
    "    for j in range(1,10):\n",
    "        print(f\"{i}*{j}={i*j}\",end='   ')  #加入end為結尾不換行，繼續。\n",
    "    print() #print()，print內部是空的，預設為換行。"
   ]
  },
  {
   "cell_type": "markdown",
   "metadata": {},
   "source": [
    "# Formatted String Literals(格式化的字串文本)\n",
    "- 格式化的字串文本（簡稱為 f-字串），透過在字串加入前綴 f 或 F，並將運算式編寫為 {expression}，讓你可以在字串內加入 Python 運算式的值。\n",
    "- 格式說明符 (format specifier) 是選擇性的，寫在運算式後面，可以更好地控制值的格式化方式。"
   ]
  },
  {
   "cell_type": "markdown",
   "metadata": {},
   "source": [
    "- 在「:_f」後傳遞，取小數點後第幾位"
   ]
  },
  {
   "cell_type": "code",
   "execution_count": 37,
   "metadata": {},
   "outputs": [
    {
     "name": "stdout",
     "output_type": "stream",
     "text": [
      "pi的值為:\" 3.142.\n"
     ]
    }
   ],
   "source": [
    "# 將 pi 捨入到小數點後三位：\n",
    "import math\n",
    "print(f'pi的值為:\" {math.pi:.3f}.') #小數點後取到第3位。"
   ]
  },
  {
   "cell_type": "markdown",
   "metadata": {},
   "source": [
    "- 在「:」後傳遞一個整數，可以設定該欄位至少為幾個字元寬，常用於將每一欄對齊。"
   ]
  },
  {
   "cell_type": "code",
   "execution_count": 38,
   "metadata": {},
   "outputs": [
    {
     "name": "stdout",
     "output_type": "stream",
     "text": [
      "Sjoerd     ==>       4127\n",
      "Jack       ==>       4098\n",
      "Dcab       ==>       7678\n"
     ]
    }
   ],
   "source": [
    "table = {'Sjoerd': 4127, 'Jack': 4098, 'Dcab': 7678}\n",
    "for name, phone in table.items():\n",
    "    print(f'{name:10} ==> {phone:10d}')"
   ]
  },
  {
   "attachments": {
    "image.png": {
     "image/png": "[encoded data removed]"
    }
   },
   "cell_type": "markdown",
   "metadata": {},
   "source": [
    "- 迷你語言\n",
    "- https://docs.python.org/zh-tw/3/library/string.html#formatspec\n",
    "\n",
    "- align對齊\n",
    "- \"<\" | \">\" | \"=\" | \"^\"\n",
    "- ![image.png](attachment:image.png)"
   ]
  },
  {
   "cell_type": "code",
   "execution_count": 1,
   "metadata": {},
   "outputs": [
    {
     "name": "stdout",
     "output_type": "stream",
     "text": [
      "1 * 1 = 1  1 * 2 = 2  1 * 3 = 3  1 * 4 = 4  1 * 5 = 5  1 * 6 = 6  1 * 7 = 7  1 * 8 = 8  1 * 9 = 9  \n",
      "2 * 1 = 2  2 * 2 = 4  2 * 3 = 6  2 * 4 = 8  2 * 5 =10  2 * 6 =12  2 * 7 =14  2 * 8 =16  2 * 9 =18  \n",
      "3 * 1 = 3  3 * 2 = 6  3 * 3 = 9  3 * 4 =12  3 * 5 =15  3 * 6 =18  3 * 7 =21  3 * 8 =24  3 * 9 =27  \n",
      "4 * 1 = 4  4 * 2 = 8  4 * 3 =12  4 * 4 =16  4 * 5 =20  4 * 6 =24  4 * 7 =28  4 * 8 =32  4 * 9 =36  \n",
      "5 * 1 = 5  5 * 2 =10  5 * 3 =15  5 * 4 =20  5 * 5 =25  5 * 6 =30  5 * 7 =35  5 * 8 =40  5 * 9 =45  \n",
      "6 * 1 = 6  6 * 2 =12  6 * 3 =18  6 * 4 =24  6 * 5 =30  6 * 6 =36  6 * 7 =42  6 * 8 =48  6 * 9 =54  \n",
      "7 * 1 = 7  7 * 2 =14  7 * 3 =21  7 * 4 =28  7 * 5 =35  7 * 6 =42  7 * 7 =49  7 * 8 =56  7 * 9 =63  \n",
      "8 * 1 = 8  8 * 2 =16  8 * 3 =24  8 * 4 =32  8 * 5 =40  8 * 6 =48  8 * 7 =56  8 * 8 =64  8 * 9 =72  \n",
      "9 * 1 = 9  9 * 2 =18  9 * 3 =27  9 * 4 =36  9 * 5 =45  9 * 6 =54  9 * 7 =63  9 * 8 =72  9 * 9 =81  \n"
     ]
    }
   ],
   "source": [
    "for i in range(1,10):    \n",
    "    for j in range(1,10):\n",
    "        print(f\"{i:<2d}*{j:2d} ={i*j:2d}\",end='  ')\n",
    "    print()"
   ]
  }
 ],
 "metadata": {
  "kernelspec": {
   "display_name": "Python 3",
   "language": "python",
   "name": "python3"
  },
  "language_info": {
   "codemirror_mode": {
    "name": "ipython",
    "version": 3
   },
   "file_extension": ".py",
   "mimetype": "text/x-python",
   "name": "python",
   "nbconvert_exporter": "python",
   "pygments_lexer": "ipython3",
   "version": "3.10.14"
  }
 },
 "nbformat": 4,
 "nbformat_minor": 2
}
