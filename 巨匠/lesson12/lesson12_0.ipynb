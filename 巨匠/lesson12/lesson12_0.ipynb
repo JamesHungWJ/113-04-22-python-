{
 "cells": [
  {
   "cell_type": "markdown",
   "metadata": {},
   "source": [
    "# 自訂class時，有三個要定義的東西\n",
    "### 1.attribute(屬性)\n",
    "### 2.property(屬性)\n",
    "### 3.method(方法)\n",
    "\n",
    "### 第一步，要建立「實體」，出現實體名稱\n",
    "### 1.實體名稱.attribute\n",
    "### 2.實體名稱.property\n",
    "### 3.實體名稱.method"
   ]
  },
  {
   "cell_type": "markdown",
   "metadata": {},
   "source": [
    "# class的method\n",
    "### class"
   ]
  }
 ],
 "metadata": {
  "kernelspec": {
   "display_name": "Python 3",
   "language": "python",
   "name": "python3"
  },
  "language_info": {
   "name": "python",
   "version": "3.10.14"
  }
 },
 "nbformat": 4,
 "nbformat_minor": 2
}
