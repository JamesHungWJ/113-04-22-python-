{
 "cells": [
  {
   "cell_type": "code",
   "execution_count": 3,
   "metadata": {},
   "outputs": [
    {
     "data": {
      "text/plain": [
       "4000"
      ]
     },
     "execution_count": 3,
     "metadata": {},
     "output_type": "execute_result"
    }
   ],
   "source": [
    "#type hint,function一訂要加型別提示\n",
    "\n",
    "def add(a:int|float,b:int|float) ->int|float:\n",
    "    return a+b\n",
    "def multiply(a:int|float,b:int|float) ->int|float:\n",
    "    return a*b\n",
    "\n",
    "add(5,20)\n",
    "multiply(80,50)"
   ]
  },
  {
   "cell_type": "markdown",
   "metadata": {},
   "source": [
    "# 第8堂-課業練習\n",
    "# 計算BMI\n",
    "- 輸入:\n",
    "-   1)請輸入姓名:xxxx\n",
    "-   2)請輸入身高(cm):\n",
    "-   3)請輸入體重(kg):\n",
    " \n",
    "- 請使用自訂的function\n",
    "- 1)建立bmi的function,會傳出bmi\n",
    "- 2)建立get_status,會傳出字串\n",
    "- 3)可以使用pypi\n",
    "- 輸出:\n",
    "- 1)xxxx,您的BMI:25.52\n",
    "- 2)xxxx,您的體重過重\n",
    "- 錯誤:\n",
    "格式錯誤:xxxxxxxxxxxxx"
   ]
  },
  {
   "cell_type": "code",
   "execution_count": 5,
   "metadata": {},
   "outputs": [
    {
     "name": "stdout",
     "output_type": "stream",
     "text": [
      "請輸入身高(120~230)(cm):請輸入體重(40~170)(kg):您的身高為180.0公分\n",
      "您的體重為80.0公斤\n",
      "洪偉傑, 您的BMI為:24.69\n",
      "洪偉傑, 您屬於:體重過重\n"
     ]
    }
   ],
   "source": [
    "import pyinputplus as pyip\n",
    "\n",
    "def bmi(weight: float, height: float) -> float:\n",
    "    return weight / (height / 100) ** 2\n",
    "def get_status(bmi: float) -> str:\n",
    "    if bmi < 18.5:\n",
    "        result = '體重過輕'\n",
    "    elif bmi < 24:\n",
    "        result = '體重正常'\n",
    "    elif bmi < 27:\n",
    "        result = '體重過重'\n",
    "    elif bmi < 30:\n",
    "        result = '輕度肥胖'\n",
    "    elif bmi < 35:\n",
    "        result = '中度肥胖'\n",
    "    else:\n",
    "        result = '重度肥胖'\n",
    "    return result\n",
    "\n",
    "try:\n",
    "    name = input('請輸入姓名:');\n",
    "    height = pyip.inputFloat('請輸入身高(120~230)(cm):', min = 120, max = 230)\n",
    "    weight = pyip.inputFloat('請輸入體重(40~170)(kg):', min = 40, max = 170)\n",
    "    bmi_value = bmi(weight, height)\n",
    "    print(f'您的身高為{height}公分')\n",
    "    print(f'您的體重為{weight}公斤')\n",
    "    print(f'{name}, 您的BMI為:{bmi_value:.2f}')\n",
    "    print(f'{name}, 您屬於:{get_status(bmi_value)}')\n",
    "\n",
    "except Exception as e:\n",
    "    print(f'格式錯誤:{e}')"
   ]
  },
  {
   "cell_type": "markdown",
   "metadata": {},
   "source": [
    "import pyinputplus as pyip: 導入了名為 pyinputplus 的模組，並使用 pyip 作為簡稱。\n",
    "\n",
    "def bmi(weight: float, height: float) -> float:: 定義了一個函式 bmi，接受兩個參數 weight（體重）和 height（身高），並返回一個浮點數值。\n",
    "\n",
    "return weight / (height / 100) ** 2: 計算並返回 BMI 值，BMI 公式是體重（公斤）除以身高（米）的平方。這裡的身高以公分為單位，因此在計算之前需要將其轉換為米。\n",
    "\n",
    "def get_status(bmi: float) -> str:: 定義了一個函式 get_status，接受一個浮點數參數 bmi，並返回一個字串值。\n",
    "\n",
    "if bmi < 18.5:: 判斷 BMI 是否小於 18.5。\n",
    "\n",
    "result = '體重過輕': 如果 BMI 小於 18.5，則將 result 設為 '體重過輕'。\n",
    "\n",
    "elif bmi < 24:: 如果 BMI 不小於 18.5，且小於 24。\n",
    "\n",
    "result = '體重正常': 將 result 設為 '體重正常'。\n",
    "\n",
    "重複類似的步驟，根據 BMI 值設置對應的 result。\n",
    "\n",
    "return result: 返回計算出的健康狀態。\n",
    "\n",
    "try:: 開始一個錯誤處理的區塊。\n",
    "\n",
    "name = input('請輸入姓名:');: 提示用戶輸入姓名，並將其賦值給 name 變數。\n",
    "\n",
    "height = pyip.inputFloat('請輸入身高(120~230)(cm):', min=120, max=230): 使用 pyinputplus 提供的 inputFloat 函式，提示用戶輸入身高並進行驗證，將其賦值給 height 變數。\n",
    "\n",
    "類似地，使用 pyinputplus 提供的 inputFloat 函式提示用戶輸入體重並進行驗證，將其賦值給 weight 變數。\n",
    "\n",
    "bmi_value = bmi(weight, height): 呼叫 bmi 函式計算 BMI 值，將結果賦值給 bmi_value 變數。\n",
    "\n",
    "print(f'您的身高為{height}公分'): 印出使用者輸入的身高。\n",
    "\n",
    "print(f'您的體重為{weight}公斤'): 印出使用者輸入的體重。\n",
    "\n",
    "print(f'{name}, 您的BMI為:{bmi_value:.2f}'): 印出使用者的姓名和計算得到的 BMI 值，並保留兩位小數。\n",
    "\n",
    "print(f'{name}, 您屬於:{get_status(bmi_value)}'): 印出使用者的姓名和根據 BMI 值得到的健康狀態。\n",
    "\n",
    "except Exception as e:: 如果在 try 區塊中出現錯誤，執行這個區塊。\n",
    "\n",
    "print(f'格式錯誤:{e}'): 印出錯誤訊息，顯示錯誤的詳細資訊。"
   ]
  },
  {
   "cell_type": "code",
   "execution_count": 10,
   "metadata": {},
   "outputs": [
    {
     "name": "stdout",
     "output_type": "stream",
     "text": [
      "請輸入身高(cm):請輸入體重(kg):身高為180.0\n",
      "體重為50.0\n",
      "洪偉傑,您的bmi為15.43，您體重過輕\n"
     ]
    }
   ],
   "source": [
    "#自己練習\n",
    "import pyinputplus as py\n",
    "\n",
    "def bmi(weight:int|float,heigh:int|float):\n",
    "    return weight / (heigh / 100) **2\n",
    "def get_status(bmi:int|float):\n",
    "    if bmi <18.5:\n",
    "        result=\"體重過輕\"\n",
    "    elif bmi < 24:\n",
    "        result=\"體重健康\"\n",
    "    elif bmi < 27:\n",
    "        result=\"體重過重\"\n",
    "    elif bmi < 30:\n",
    "        result=\"輕度肥胖\"\n",
    "    elif bmi < 35:\n",
    "        result=\"中度肥胖\"\n",
    "    else:\n",
    "        result=\"種度肥胖\"\n",
    "    return result\n",
    "\n",
    "try:\n",
    "    name=input(\"請輸入姓名:\")\n",
    "    height=py.inputFloat(\"請輸入身高(cm):\",min=1,max=200)\n",
    "    weight=py.inputFloat(\"請輸入體重(kg):\",min=1,max=200)\n",
    "    bmi_show=bmi(weight,height)\n",
    "    print(f\"身高為{height}\")\n",
    "    print(f\"體重為{weight}\")\n",
    "except Exception as e:\n",
    "    print(f\"發生錯誤{e}\")\n",
    "\n",
    "\n",
    "print(f\"{name},您的bmi為{bmi_show:.2f}，您{get_status(bmi_show)}\")"
   ]
  }
 ],
 "metadata": {
  "kernelspec": {
   "display_name": "Python 3",
   "language": "python",
   "name": "python3"
  },
  "language_info": {
   "codemirror_mode": {
    "name": "ipython",
    "version": 3
   },
   "file_extension": ".py",
   "mimetype": "text/x-python",
   "name": "python",
   "nbconvert_exporter": "python",
   "pygments_lexer": "ipython3",
   "version": "3.10.14"
  }
 },
 "nbformat": 4,
 "nbformat_minor": 2
}
