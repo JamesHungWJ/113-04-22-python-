{
 "cells": [
  {
   "cell_type": "markdown",
   "metadata": {},
   "source": [
    "## 如何自訂function\n",
    "- funtion代表一個功能\n",
    "- 可以讓邏輯思考變簡單\n",
    "## 可以使用def"
   ]
  },
  {
   "cell_type": "code",
   "execution_count": 2,
   "metadata": {},
   "outputs": [
    {
     "name": "stdout",
     "output_type": "stream",
     "text": [
      "15\n",
      "1000\n"
     ]
    }
   ],
   "source": [
    "def add(a,b):\n",
    "    return a+b\n",
    "def multiply(a,b):\n",
    "    return a * b\n",
    "\n",
    "print(add(10,5))\n",
    "print(multiply(20,50))"
   ]
  },
  {
   "cell_type": "code",
   "execution_count": null,
   "metadata": {},
   "outputs": [],
   "source": [
    "# 未使用def語法\n",
    "import random\n",
    "import pyinputplus as pyip\n",
    "\n",
    "while True:\n",
    "    min = 1\n",
    "    max = 100\n",
    "    count = 0\n",
    "    target = random.randint(min,max)\n",
    "    print(target)\n",
    "    print(\"=========猜數字遊戲============\\n\")\n",
    "    while True:\n",
    "        count += 1\n",
    "        keyin = pyip.inputInt(f\"猜數字的範圍{min}~{max}:\")\n",
    "        print(keyin)\n",
    "        if keyin == target:\n",
    "            print(f\"賓果!猜對了, 答案是:{target}\")\n",
    "            print(f\"您總共猜了{count}次\")\n",
    "            break\n",
    "        elif(keyin > target):        \n",
    "            print(\"再小一點\")\n",
    "            max = keyin-1        \n",
    "        elif(keyin < target):\n",
    "            print(\"再大一點\")\n",
    "            min = keyin + 1\n",
    "        print(f'您已經猜了{count}次')\n",
    "    play_again = pyip.inputYesNo(\"還要繼續嗎?(y,n)\")\n",
    "    if play_again == 'no':\n",
    "        break\n",
    "\n",
    "print(\"遊戲結束\")"
   ]
  },
  {
   "cell_type": "markdown",
   "metadata": {},
   "source": [
    "## 使用def語法"
   ]
  },
  {
   "cell_type": "code",
   "execution_count": 1,
   "metadata": {},
   "outputs": [
    {
     "name": "stdout",
     "output_type": "stream",
     "text": [
      "99\n",
      "=========猜數字遊戲============\n",
      "\n",
      "猜數字的範圍1~100:85\n",
      "再大一點\n",
      "您已經猜了1次\n",
      "猜數字的範圍86~100:90\n",
      "再大一點\n",
      "您已經猜了2次\n",
      "猜數字的範圍91~100:95\n",
      "再大一點\n",
      "您已經猜了3次\n",
      "猜數字的範圍96~100:95\n",
      "再大一點\n",
      "您已經猜了4次\n",
      "猜數字的範圍96~100:98\n",
      "再大一點\n",
      "您已經猜了5次\n",
      "猜數字的範圍99~100:100\n",
      "再小一點\n",
      "您已經猜了6次\n",
      "猜數字的範圍99~99:99\n",
      "賓果!猜對了, 答案是:99\n",
      "您總共猜了7次\n",
      "還要繼續嗎?(y,n)遊戲結束\n"
     ]
    }
   ],
   "source": [
    "import random\n",
    "import pyinputplus as pyip\n",
    "\n",
    "def play_game():\n",
    "    min = 1\n",
    "    max = 100\n",
    "    count = 0\n",
    "    target = random.randint(min,max)\n",
    "    print(target)\n",
    "    print(\"=========猜數字遊戲============\\n\")\n",
    "    while True:\n",
    "        count += 1\n",
    "        keyin = pyip.inputInt(f\"猜數字的範圍{min}~{max}:\")\n",
    "        print(keyin)\n",
    "        if keyin == target:\n",
    "            print(f\"賓果!猜對了, 答案是:{target}\")\n",
    "            print(f\"您總共猜了{count}次\")\n",
    "            break\n",
    "        elif(keyin > target):        \n",
    "            print(\"再小一點\")\n",
    "            max = keyin-1        \n",
    "        elif(keyin < target):\n",
    "            print(\"再大一點\")\n",
    "            min = keyin + 1\n",
    "        print(f'您已經猜了{count}次')\n",
    "\n",
    "while True:\n",
    "    play_game()\n",
    "    play_again = pyip.inputYesNo(\"還要繼續嗎?(y,n)\")\n",
    "    if play_again == 'no':\n",
    "        break\n",
    "\n",
    "print(\"遊戲結束\")"
   ]
  },
  {
   "cell_type": "markdown",
   "metadata": {},
   "source": [
    "## 改為傳出None"
   ]
  },
  {
   "cell_type": "code",
   "execution_count": 1,
   "metadata": {},
   "outputs": [
    {
     "name": "stdout",
     "output_type": "stream",
     "text": [
      "77\n",
      "=========猜數字遊戲============\n",
      "\n",
      "猜數字的範圍1~100:50\n",
      "再大一點\n",
      "您已經猜了1次\n",
      "猜數字的範圍51~100:80\n",
      "再小一點\n",
      "您已經猜了2次\n",
      "猜數字的範圍51~79:62\n",
      "再大一點\n",
      "您已經猜了3次\n",
      "猜數字的範圍63~79:75\n",
      "再大一點\n",
      "您已經猜了4次\n",
      "猜數字的範圍76~79:70\n",
      "再大一點\n",
      "您已經猜了5次\n",
      "猜數字的範圍71~79:78\n",
      "再小一點\n",
      "您已經猜了6次\n",
      "猜數字的範圍71~77:77\n",
      "賓果!猜對了, 答案是:77\n",
      "您總共猜了7次\n",
      "還要繼續嗎?(y,n)'76' is not a valid yes/no response.\n",
      "還要繼續嗎?(y,n)遊戲結束\n"
     ]
    }
   ],
   "source": [
    "import random\n",
    "import pyinputplus as pyip\n",
    "\n",
    "def play_game()->None:\n",
    "    min = 1\n",
    "    max = 100\n",
    "    count = 0\n",
    "    target = random.randint(min,max)\n",
    "    print(target)\n",
    "    print(\"=========猜數字遊戲============\\n\")\n",
    "    while True:\n",
    "        count += 1\n",
    "        keyin = pyip.inputInt(f\"猜數字的範圍{min}~{max}:\")\n",
    "        print(keyin)\n",
    "        if keyin == target:\n",
    "            print(f\"賓果!猜對了, 答案是:{target}\")\n",
    "            print(f\"您總共猜了{count}次\")\n",
    "            break\n",
    "        elif(keyin > target):        \n",
    "            print(\"再小一點\")\n",
    "            max = keyin-1        \n",
    "        elif(keyin < target):\n",
    "            print(\"再大一點\")\n",
    "            min = keyin + 1\n",
    "        print(f'您已經猜了{count}次')\n",
    "\n",
    "while True:\n",
    "    play_game()\n",
    "    play_again = pyip.inputYesNo(\"還要繼續嗎?(y,n)\")\n",
    "    if play_again == 'no':\n",
    "        break\n",
    "\n",
    "print(\"遊戲結束\")"
   ]
  }
 ],
 "metadata": {
  "kernelspec": {
   "display_name": "Python 3",
   "language": "python",
   "name": "python3"
  },
  "language_info": {
   "codemirror_mode": {
    "name": "ipython",
    "version": 3
   },
   "file_extension": ".py",
   "mimetype": "text/x-python",
   "name": "python",
   "nbconvert_exporter": "python",
   "pygments_lexer": "ipython3",
   "version": "3.10.14"
  }
 },
 "nbformat": 4,
 "nbformat_minor": 2
}
