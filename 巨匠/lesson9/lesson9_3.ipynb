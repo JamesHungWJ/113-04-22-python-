{
 "cells": [
  {
   "cell_type": "markdown",
   "metadata": {},
   "source": [
    "## data class的應用"
   ]
  },
  {
   "cell_type": "code",
   "execution_count": 4,
   "metadata": {},
   "outputs": [
    {
     "name": "stdout",
     "output_type": "stream",
     "text": [
      "Student(name='洪偉傑', chinese=78, english=80, math=90)\n",
      "總分:248\n",
      "平均為:82.67\n",
      "==========================\n",
      "Student(name='JamesHung', chinese=80, english=80, math=99)\n",
      "總分:259\n",
      "平均為:86.33\n"
     ]
    }
   ],
   "source": [
    "from dataclasses import dataclass\n",
    "\n",
    "@dataclass\n",
    "class Student():\n",
    "    name:str\n",
    "    chinese:int\n",
    "    english:int\n",
    "    math:int\n",
    "    \n",
    "    @property \n",
    "    def sum(self):\n",
    "        return self.chinese + self.english + self.math\n",
    "    \n",
    "    def average(self)->float:\n",
    "        return self.sum/3\n",
    "\n",
    "s1 = Student(\"洪偉傑\",78,80,90)\n",
    "print(s1)\n",
    "print(f\"總分:{s1.sum}\")\n",
    "print(f\"平均為:{s1.average():.2f}\")\n",
    "print(\"==========================\")\n",
    "s2 = Student(\"JamesHung\",80,80,99)\n",
    "print(s2)\n",
    "print(f\"總分:{s2.sum}\")\n",
    "print(f\"平均為:{s2.average():.2f}\")"
   ]
  }
 ],
 "metadata": {
  "kernelspec": {
   "display_name": "Python 3",
   "language": "python",
   "name": "python3"
  },
  "language_info": {
   "codemirror_mode": {
    "name": "ipython",
    "version": 3
   },
   "file_extension": ".py",
   "mimetype": "text/x-python",
   "name": "python",
   "nbconvert_exporter": "python",
   "pygments_lexer": "ipython3",
   "version": "3.10.14"
  }
 },
 "nbformat": 4,
 "nbformat_minor": 2
}
