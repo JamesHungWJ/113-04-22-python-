{
 "cells": [
  {
   "cell_type": "markdown",
   "metadata": {},
   "source": [
    "## type() 函式\n",
    "class 類別"
   ]
  },
  {
   "cell_type": "code",
   "execution_count": 1,
   "metadata": {},
   "outputs": [
    {
     "name": "stdout",
     "output_type": "stream",
     "text": [
      "<class 'int'>\n"
     ]
    }
   ],
   "source": [
    "n=5\n",
    "print(type(n))"
   ]
  },
  {
   "cell_type": "markdown",
   "metadata": {},
   "source": [
    "## 自訂的class(類別)\n",
    "- 如果是自訂的class，第一個字母用大寫\n",
    "- 建立class，可以使用initial，就能建立一個實體/物件。"
   ]
  },
  {
   "cell_type": "code",
   "execution_count": 1,
   "metadata": {},
   "outputs": [
    {
     "data": {
      "text/plain": [
       "__main__.Person"
      ]
     },
     "execution_count": 1,
     "metadata": {},
     "output_type": "execute_result"
    }
   ],
   "source": [
    "class Person():\n",
    "    pass\n",
    "\n",
    "p1=Person()\n",
    "type(p1)"
   ]
  },
  {
   "cell_type": "markdown",
   "metadata": {},
   "source": [
    "## 實體內的專有名稱(實體就像是個人一樣)\n",
    "- attribute(屬性) -->功能是儲存資料\n",
    "- property(屬性)-->功能是儲存資料，並能檢查傳入的資料\n",
    "- instance method(實體方法)"
   ]
  },
  {
   "cell_type": "code",
   "execution_count": 9,
   "metadata": {},
   "outputs": [
    {
     "name": "stdout",
     "output_type": "stream",
     "text": [
      "p1的name是洪偉傑\n",
      "p2的name是James Hung\n"
     ]
    }
   ],
   "source": [
    "#自訂attribute，必須要有initial\n",
    "#自訂的init\n",
    "#建立attribute name\n",
    "class Person():\n",
    "    def __init__(self,n:str): #所有的def，只要在class裡面都要加入self，有__代表內建\n",
    "        super().__init__() #這一行是副類別，每一個基礎的class都會繼承，但原則上不會顯示。\n",
    "        #課程時間 01:04:00\n",
    "        self.name = n\n",
    "\n",
    "p1 = Person(\"洪偉傑\")\n",
    "print(f\"p1的name是{p1.name}\")\n",
    "\n",
    "p2 = Person(\"James Hung\")\n",
    "print(f\"p2的name是{p2.name}\")"
   ]
  },
  {
   "cell_type": "code",
   "execution_count": 2,
   "metadata": {},
   "outputs": [
    {
     "name": "stdout",
     "output_type": "stream",
     "text": [
      "p1的name是洪偉傑\n",
      "我是Person的實體,我的名字洪偉傑\n",
      "p2的name是James Hung\n",
      "我是Person的實體,我的名字James Hung\n"
     ]
    }
   ],
   "source": [
    "#自訂的attribute,必需有自訂的init\n",
    "#自訂的init\n",
    "#建立attribute name\n",
    "#自訂的__repre__\n",
    "class Person():\n",
    "    def __init__(self,n:str): #所有的def，只要在class裡面都要加入self，有__代表內建\n",
    "        super().__init__()\n",
    "        self.name = n\n",
    "    def __repr__(self): #一定要加self\n",
    "    #google可以尋找__repr__\n",
    "        return f\"我是Person的實體,我的名字{self.name}\" \n",
    "    \n",
    "p1 = Person(\"洪偉傑\")\n",
    "print(f\"p1的name是{p1.name}\")\n",
    "print(p1)\n",
    "\n",
    "p2 = Person(\"James Hung\")\n",
    "print(f\"p2的name是{p2.name}\")\n",
    "print(p2)"
   ]
  },
  {
   "cell_type": "markdown",
   "metadata": {},
   "source": [
    "## Python 有兩個內建函式可以用於繼承：\n",
    "\n",
    "- 使用 isinstance() 判斷一個實例的型別：isinstance(obj, int) 只有在 obj.__class__ 是 int 或衍伸自 int 時，結果才會是 True。\n",
    "\n",
    "- 使用 issubclass() 判斷 class 繼承：issubclass(bool, int) 會是 True，因為 bool 是 int 的 subclass（子類別）。但是，issubclass(float, int) 是 False，因為 float 並不是 int 的 subclass。"
   ]
  },
  {
   "cell_type": "code",
   "execution_count": 1,
   "metadata": {},
   "outputs": [],
   "source": [
    "#如何繼承 課程時間：01:18:00開始\n",
    "class Person():\n",
    "    def __init__(self,n:str):\n",
    "        super().__init__()\n",
    "        self.name = n\n",
    "\n",
    "    def __repr__(self):\n",
    "        return f\"我是Person的實體,我的名字{self.name}\"\n",
    "    \n",
    "class Student(Person):\n",
    "    def __init__(self,n:str,s:int):\n",
    "        super().__init__(n)\n",
    "        self.scores = s\n",
    "    \n",
    "    def __repr__(self):\n",
    "        before = super().__repr__()\n",
    "        return f\"{before},總分為{self.scores}\""
   ]
  },
  {
   "cell_type": "code",
   "execution_count": 2,
   "metadata": {},
   "outputs": [
    {
     "name": "stdout",
     "output_type": "stream",
     "text": [
      "洪偉傑 270\n",
      "我是Person的實體,我的名字洪偉傑,總分為270\n",
      "James Hung 290\n",
      "我是Person的實體,我的名字James Hung,總分為290\n"
     ]
    }
   ],
   "source": [
    "s1 = Student(\"洪偉傑\",270)\n",
    "print(s1.name, s1.scores)\n",
    "print(s1)\n",
    "\n",
    "s2 = Student(\"James Hung\",290)\n",
    "print(s2.name, s2.scores)\n",
    "print(s2)"
   ]
  },
  {
   "cell_type": "markdown",
   "metadata": {},
   "source": [
    "## GrandmaCan-繼承 inheritance"
   ]
  },
  {
   "cell_type": "code",
   "execution_count": 32,
   "metadata": {},
   "outputs": [],
   "source": [
    "class Person:\n",
    "    def __init__(self,name:str,age:int):\n",
    "        self.name = name\n",
    "        self.age = age\n",
    "    def say_hi(self):\n",
    "        print(f\"你好我是{self.name}\")\n",
    "\n",
    "class Student(Person): #將上面的Person拷貝一份，在這裡使用。\n",
    "    def __init__(self,name:str,age:int,score:int):\n",
    "        super().__init__(name,age) #相當於上面的self.name=name以及self.age=age，貼到這裡。\n",
    "        self.score=score\n",
    "\n",
    "    def say_hi(self):\n",
    "        print(f\"你好我是{self.name}，我今年{self.age}歲\")\n",
    "    def print_score(self):\n",
    "        print(f\"我考{self.score}\")"
   ]
  },
  {
   "cell_type": "code",
   "execution_count": 33,
   "metadata": {},
   "outputs": [
    {
     "name": "stdout",
     "output_type": "stream",
     "text": [
      "偉傑\n",
      "23\n",
      "70\n",
      "你好我是偉傑，我今年23歲\n",
      "我考70\n"
     ]
    }
   ],
   "source": [
    "s1 = Student(\"偉傑\", 23, 70)\n",
    "print(s1.name)\n",
    "print(s1.age)\n",
    "print(s1.score)\n",
    "s1.say_hi()\n",
    "s1.print_score()"
   ]
  },
  {
   "cell_type": "markdown",
   "metadata": {},
   "source": [
    "這段程式碼是使用 Python 定義了兩個類別：Person 和 Student。\n",
    "\n",
    "Person 類別有一個建構函式 __init__，接受兩個參數 name 和 age，並將它們分別賦值給物件屬性 self.name 和 self.age。另外，它還有一個 say_hi 方法，用來輸出一條打招呼的信息，顯示物件的名字。\n",
    "\n",
    "Student 類別繼承自 Person 類別，這意味著它繼承了 Person 類別的屬性和方法。Student 類別也有一個建構函式 __init__，接受三個參數 name、age 和 score。在初始化時，它調用了父類別 Person 的 __init__ 方法來設置名字和年齡，同時設置了學生成績屬性 self.score。此外，Student 類別還有一個 say_hi 方法，輸出一條帶有學生年齡的打招呼信息，以及一個 print_score 方法，用來輸出學生成績。\n",
    "\n",
    "在程式碼的最後，創建了一個 Student 物件 s1，並傳遞了相應的參數。然後打印出了學生的名字、年齡和成績，以及呼叫了 say_hi 和 print_score 方法，輸出了相應的信息。\n",
    "\n",
    "\n",
    "\n",
    "01:37:23"
   ]
  }
 ],
 "metadata": {
  "kernelspec": {
   "display_name": "Python 3",
   "language": "python",
   "name": "python3"
  },
  "language_info": {
   "codemirror_mode": {
    "name": "ipython",
    "version": 3
   },
   "file_extension": ".py",
   "mimetype": "text/x-python",
   "name": "python",
   "nbconvert_exporter": "python",
   "pygments_lexer": "ipython3",
   "version": "3.10.14"
  }
 },
 "nbformat": 4,
 "nbformat_minor": 2
}
