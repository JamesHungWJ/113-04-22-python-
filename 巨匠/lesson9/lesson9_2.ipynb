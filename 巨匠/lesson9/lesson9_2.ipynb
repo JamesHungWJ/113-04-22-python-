{
 "cells": [
  {
   "cell_type": "markdown",
   "metadata": {},
   "source": [
    "## 實體內的專有名稱(實體就像是個人一樣)\n",
    "- attribute(屬性) -->功能是儲存資料\n",
    "- property(屬性)-->功能是儲存資料，並能檢查傳入的資料\n",
    "- instance method(實體方法)"
   ]
  },
  {
   "cell_type": "code",
   "execution_count": 5,
   "metadata": {},
   "outputs": [
    {
     "name": "stdout",
     "output_type": "stream",
     "text": [
      "您的姓名是:洪偉傑\n",
      "國文:90\n",
      "英文:92\n",
      "數學:80\n",
      "\n",
      "您的姓名是:JamesHung\n",
      "國文:80\n",
      "英文:70\n",
      "數學:99\n",
      "\n"
     ]
    }
   ],
   "source": [
    "class Student():\n",
    "    def __init__(self,n:str,c:int,e:int,m:int):\n",
    "        super().__init__()\n",
    "        self.name = n   #attribute\n",
    "        self.chinese = c #attribute\n",
    "        self.english = e #attribute\n",
    "        self.math = m #attribute\n",
    "\n",
    "    def __repr__(self):\n",
    "        message = f\"您的姓名是:{self.name}\\n\"  \n",
    "        message += f\"國文:{self.chinese}\\n\"   #message += 的意思是將後面的字串添加到 message 變數目前的值之後，然後將新的值存回到 message 變數中。\n",
    "        message += f\"英文:{self.english}\\n\"\n",
    "        message += f\"數學:{self.math}\\n\"\n",
    "        return message  #要傳出值\n",
    "\n",
    "s1 = Student(n=\"洪偉傑\",c=90,e=92,m=80) #使用引述直呼叫\n",
    "print(s1)\n",
    "\n",
    "s2 = Student(n=\"JamesHung\",c=80,e=70,m=99) #使用引述直呼叫\n",
    "print(s2)\n"
   ]
  },
  {
   "cell_type": "markdown",
   "metadata": {},
   "source": [
    "## property的應用\n",
    "- 一定要加 @，代表註冊了property"
   ]
  },
  {
   "cell_type": "code",
   "execution_count": 12,
   "metadata": {},
   "outputs": [
    {
     "name": "stdout",
     "output_type": "stream",
     "text": [
      "您的姓名是:洪偉傑\n",
      "國文:90\n",
      "英文:92\n",
      "數學:80\n",
      "\n",
      "總分:262\n",
      "==========================\n",
      "您的姓名是:JamesHung\n",
      "國文:80\n",
      "英文:70\n",
      "數學:99\n",
      "\n",
      "總分:249\n"
     ]
    }
   ],
   "source": [
    "class Student():\n",
    "    def __init__(self,n:str,c:int,e:int,m:int):\n",
    "        super().__init__()\n",
    "        self.name = n   #attribute\n",
    "        self.chinese = c #attribute\n",
    "        self.english = e #attribute\n",
    "        self.math = m #attribute\n",
    "\n",
    "    def __repr__(self):\n",
    "        message = f\"您的姓名是:{self.name}\\n\"  \n",
    "        message += f\"國文:{self.chinese}\\n\"   #message += 的意思是將後面的字串添加到 message 變數目前的值之後，然後將新的值存回到 message 變數中。\n",
    "        message += f\"英文:{self.english}\\n\"\n",
    "        message += f\"數學:{self.math}\\n\"\n",
    "        return message  #要傳出值\n",
    "    \n",
    "    #property的語法\n",
    "    @property #一定要加 @，代表註冊了property\n",
    "    def sum(self):  #sum是可以變成其他名稱的\n",
    "        return self.chinese+self.english+self.math\n",
    "\n",
    "s1 = Student(n=\"洪偉傑\",c=90,e=92,m=80) #使用引述直呼叫\n",
    "print(s1)\n",
    "print(f\"總分:{s1.sum}\")\n",
    "print(\"==========================\")\n",
    "s2 = Student(n=\"JamesHung\",c=80,e=70,m=99) #使用引述直呼叫\n",
    "print(s2)\n",
    "print(f\"總分:{s2.sum}\")\n"
   ]
  },
  {
   "cell_type": "code",
   "execution_count": 14,
   "metadata": {},
   "outputs": [
    {
     "name": "stdout",
     "output_type": "stream",
     "text": [
      "您的姓名是:洪偉傑\n",
      "國文:90\n",
      "英文:92\n",
      "數學:80\n",
      "總分:262\n",
      "平均為:87.33\n",
      "==========================\n",
      "您的姓名是:JamesHung\n",
      "國文:80\n",
      "英文:70\n",
      "數學:99\n",
      "總分:249\n",
      "平均為:83.00\n"
     ]
    }
   ],
   "source": [
    "class Student():\n",
    "    def __init__(self,n:str,c:int,e:int,m:int):\n",
    "        super().__init__()\n",
    "        self.name = n   #attribute\n",
    "        self.chinese = c #attribute\n",
    "        self.english = e #attribute\n",
    "        self.math = m #attribute\n",
    "\n",
    "    def __repr__(self):\n",
    "        message = f\"您的姓名是:{self.name}\\n\"  \n",
    "        message += f\"國文:{self.chinese}\\n\"\n",
    "        message += f\"英文:{self.english}\\n\"\n",
    "        message += f\"數學:{self.math}\"\n",
    "        return message\n",
    "    \n",
    "    #property的語法\n",
    "    @property #一定要加 @\n",
    "    def sum(self):  #sum是可以變成其他名稱的\n",
    "        return self.chinese+self.english+self.math\n",
    "    \n",
    "    #建立實體方法\n",
    "    def average(self)->float: #average\n",
    "        return self.sum/3\n",
    "\n",
    "s1 = Student(n=\"洪偉傑\",c=90,e=92,m=80)\n",
    "print(s1)\n",
    "print(f\"總分:{s1.sum}\")\n",
    "print(f\"平均為:{s1.average():.2f}\")\n",
    "print(\"==========================\")\n",
    "s2 = Student(n=\"JamesHung\",c=80,e=70,m=99)\n",
    "print(s2)\n",
    "print(f\"總分:{s2.sum}\")\n",
    "print(f\"平均為:{s2.average():.2f}\")"
   ]
  }
 ],
 "metadata": {
  "kernelspec": {
   "display_name": "Python 3",
   "language": "python",
   "name": "python3"
  },
  "language_info": {
   "codemirror_mode": {
    "name": "ipython",
    "version": 3
   },
   "file_extension": ".py",
   "mimetype": "text/x-python",
   "name": "python",
   "nbconvert_exporter": "python",
   "pygments_lexer": "ipython3",
   "version": "3.10.14"
  }
 },
 "nbformat": 4,
 "nbformat_minor": 2
}
